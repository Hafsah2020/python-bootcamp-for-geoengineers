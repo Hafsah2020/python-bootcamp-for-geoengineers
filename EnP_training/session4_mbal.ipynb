{
  "nbformat": 4,
  "nbformat_minor": 0,
  "metadata": {
    "colab": {
      "name": "session4-mbal.ipynb",
      "provenance": [],
      "collapsed_sections": [],
      "authorship_tag": "ABX9TyOL6fQYLrgDctL38KpW0+fC",
      "include_colab_link": true
    },
    "kernelspec": {
      "name": "python3",
      "display_name": "Python 3"
    }
  },
  "cells": [
    {
      "cell_type": "markdown",
      "metadata": {
        "id": "view-in-github",
        "colab_type": "text"
      },
      "source": [
        "<a href=\"https://colab.research.google.com/github/yohanesnuwara/python-bootcamp-for-geoengineers/blob/master/EnP_training/session4_mbal.ipynb\" target=\"_parent\"><img src=\"https://colab.research.google.com/assets/colab-badge.svg\" alt=\"Open In Colab\"/></a>"
      ]
    },
    {
      "cell_type": "markdown",
      "metadata": {
        "id": "TbbCScDjFPLK"
      },
      "source": [
        "# Material Balance Analysis with Python "
      ]
    },
    {
      "cell_type": "code",
      "metadata": {
        "id": "irLRrO6cFIVj"
      },
      "source": [
        "# import libraries\n",
        "import numpy as np\n",
        "import matplotlib.pyplot as plt\n",
        "import pandas as pd"
      ],
      "execution_count": 1,
      "outputs": []
    },
    {
      "cell_type": "code",
      "metadata": {
        "id": "8zeQY6hZSXxB"
      },
      "source": [
        "# clone \"pyreservoir\" repository\n",
        "!git clone https://github.com/yohanesnuwara/pyreservoir"
      ],
      "execution_count": null,
      "outputs": []
    },
    {
      "cell_type": "code",
      "metadata": {
        "id": "_dogF6rIsdKE"
      },
      "source": [
        "# import system and define path\n",
        "import sys\n",
        "sys.path.append('/content/pyreservoir/matbal')"
      ],
      "execution_count": 3,
      "outputs": []
    },
    {
      "cell_type": "code",
      "metadata": {
        "id": "kUrrjDxDseFw"
      },
      "source": [
        "# import \"mbal\" module and from that import the functions\n"
      ],
      "execution_count": null,
      "outputs": []
    },
    {
      "cell_type": "markdown",
      "metadata": {
        "id": "kum6ufvkQQr6"
      },
      "source": [
        "## Intro to Regression (Curve-fitting)"
      ]
    },
    {
      "cell_type": "markdown",
      "metadata": {
        "id": "decqCKg0QVbs"
      },
      "source": [
        "Linear regression is the basis of material balance plot analysis. To be well-versed with our subsequent training, we will do a simple linear regression with `Scipy`. "
      ]
    },
    {
      "cell_type": "code",
      "metadata": {
        "id": "OKpOWXOvS1vG"
      },
      "source": [
        "# import curve_fit from Scipy optimize\n"
      ],
      "execution_count": null,
      "outputs": []
    },
    {
      "cell_type": "markdown",
      "metadata": {
        "id": "ifUBqyxMRGBp"
      },
      "source": [
        "First, make a dummy data. Add with random noise. "
      ]
    },
    {
      "cell_type": "code",
      "metadata": {
        "id": "HLKb1kWRRMVM"
      },
      "source": [
        "# create function\n"
      ],
      "execution_count": null,
      "outputs": []
    },
    {
      "cell_type": "code",
      "metadata": {
        "id": "Z8nX-jc-Rj6q"
      },
      "source": [
        "# create dummy data with a=0.5 and b=1. \n",
        "# add with random noise, multiplied by 1.5.\n"
      ],
      "execution_count": null,
      "outputs": []
    },
    {
      "cell_type": "code",
      "metadata": {
        "id": "9XrKZn29TAZ6"
      },
      "source": [
        "# do linear regression on x and y dummy data\n"
      ],
      "execution_count": null,
      "outputs": []
    },
    {
      "cell_type": "code",
      "metadata": {
        "id": "iyH5Qf9STf5J"
      },
      "source": [
        "# plot the linear fit line with dummy data\n"
      ],
      "execution_count": null,
      "outputs": []
    },
    {
      "cell_type": "markdown",
      "metadata": {
        "id": "7VZHI77_sXW7"
      },
      "source": [
        "## Dry-gas material balance"
      ]
    },
    {
      "cell_type": "markdown",
      "metadata": {
        "id": "_BTk6F0gBQp0"
      },
      "source": [
        "We will do material balance plot analysis on a dry-gas reservoir; the data is from the U.S. Gulf Coast gas reservoir (Source: Brian F. Towler book)."
      ]
    },
    {
      "cell_type": "markdown",
      "metadata": {
        "id": "4Mslr2dVDRC5"
      },
      "source": [
        "First we will load the production data."
      ]
    },
    {
      "cell_type": "code",
      "metadata": {
        "id": "WDygiKr8GdCU"
      },
      "source": [
        "# load production data\n",
        "filepath = '/content/pyreservoir/data/dry_gas_with_waterdrive.csv'\n"
      ],
      "execution_count": null,
      "outputs": []
    },
    {
      "cell_type": "markdown",
      "metadata": {
        "id": "0k9F_XMKDXTb"
      },
      "source": [
        "We want to plot the reservoir pressure, cum. oil production, and cum. gas production into one plot. "
      ]
    },
    {
      "cell_type": "code",
      "metadata": {
        "id": "nKn1xoBksCvM"
      },
      "source": [
        "# Define variables for to visualize\n"
      ],
      "execution_count": null,
      "outputs": []
    },
    {
      "cell_type": "code",
      "metadata": {
        "id": "FyPX5lDugb_n"
      },
      "source": [
        "# Plot pressure and cum production in one plot: use .twinx()\n"
      ],
      "execution_count": null,
      "outputs": []
    },
    {
      "cell_type": "markdown",
      "metadata": {
        "id": "bgQ6A7XoGA5B"
      },
      "source": [
        "Now, the material balance plot analysis.\n",
        "\n",
        "The reservoir has some properties as listed:\n",
        "* Formation compressibility 3.5 microsip\n",
        "* Water compressibility 2.9 microsip\n",
        "* Initial water saturation 0.21\n",
        "\n",
        "And also, some variables in the production data are NOT recorded in FIELD UNITS. They are:\n",
        "* Cum. gas production [MMSCF]\n",
        "* Gas FVF [RB / MSCF]"
      ]
    },
    {
      "cell_type": "code",
      "metadata": {
        "id": "3lC3JlY_GF5u"
      },
      "source": [
        "# see help to find out the required inputs\n"
      ],
      "execution_count": null,
      "outputs": []
    },
    {
      "cell_type": "code",
      "metadata": {
        "id": "Kaj6W6Q5GUgb"
      },
      "source": [
        "# input all the required ones. \n",
        "# variables need conversion: Bg, Gp\n",
        "\n",
        "\n",
        "# calculate parameters for plotting: use function \"calculate_params\"\n",
        "\n",
        "\n",
        "# create MBAL plots and automatically give in place results\n",
        "\n"
      ],
      "execution_count": null,
      "outputs": []
    },
    {
      "cell_type": "markdown",
      "metadata": {
        "id": "yGPMaFh_Bn_a"
      },
      "source": [
        "## Gas-condensate reservoir"
      ]
    },
    {
      "cell_type": "markdown",
      "metadata": {
        "id": "eXTY95ORBrUl"
      },
      "source": [
        "We will do material balance plot analysis on a gas-condensate reservoir; the data is from the Bacon Lime gas reservoir (Source: Brian F. Towler book)."
      ]
    },
    {
      "cell_type": "code",
      "metadata": {
        "id": "r8ruylaTBqQV"
      },
      "source": [
        "# load production data\n",
        "filepath = '/content/pyreservoir/data/baconlime_gas_condensate.csv'\n"
      ],
      "execution_count": null,
      "outputs": []
    },
    {
      "cell_type": "markdown",
      "metadata": {
        "id": "lx51_3BjREA0"
      },
      "source": [
        "Now, the material balance plot analysis.\n",
        "\n",
        "The reservoir has some properties as listed:\n",
        "* Formation and water are incompressible (0 sip)\n",
        "* Initial water saturation 0.2\n",
        "* Dewpoint pressure 3,691 psia\n",
        "* No gas injection\n",
        "\n",
        "And also, some variables in the production data are NOT recorded in FIELD UNITS. They are:\n",
        "* Cum. gas production [BSCF]\n",
        "* Gas FVF [RB / MSCF]\n",
        "* Volatile oil-gas ratio [STB / MMSCF]"
      ]
    },
    {
      "cell_type": "code",
      "metadata": {
        "id": "oVHuRSiqQCf-"
      },
      "source": [
        "# see help to find out the required inputs\n"
      ],
      "execution_count": null,
      "outputs": []
    },
    {
      "cell_type": "code",
      "metadata": {
        "id": "RJsegAwDQQzM"
      },
      "source": [
        "# input all the required ones. Gi = 0 (no gas injection)\n",
        "# variables need conversion: Bg, Gp, Rv. \n",
        "\n",
        "\n",
        "# calculate parameters for plotting: use function \"calculate_params\"\n",
        "\n",
        "\n",
        "\n",
        "# create MBAL plots and automatically give in place results\n",
        "\n"
      ],
      "execution_count": null,
      "outputs": []
    },
    {
      "cell_type": "markdown",
      "metadata": {
        "id": "kyrok_4QCt98"
      },
      "source": [
        "## Saturated Volatile Oil Reservoir"
      ]
    },
    {
      "cell_type": "markdown",
      "metadata": {
        "id": "zL3YBbuWCyLT"
      },
      "source": [
        "We will do material balance plot analysis on a saturated volatile oil reservoir; the data is from the Prudhoe Bay oil reservoir (Source: Brian F. Towler book)."
      ]
    },
    {
      "cell_type": "code",
      "metadata": {
        "id": "L6b13S_LCypS"
      },
      "source": [
        "# load production data\n",
        "filepath = '/content/pyreservoir/data/Table 12.16 (edited).csv'\n",
        "columns = ['p', 'Bo', 'Bg', 'Rs', 'Rv', 'Np', 'Gp']\n"
      ],
      "execution_count": null,
      "outputs": []
    },
    {
      "cell_type": "markdown",
      "metadata": {
        "id": "64EItWONeDA9"
      },
      "source": [
        "Now, the material balance plot analysis.\n",
        "\n",
        "The reservoir has some properties as listed:\n",
        "* Formation and water are incompressible (0 sip)\n",
        "* Initial water saturation 0.2\n",
        "* No gas injection\n",
        "\n",
        "And also, some variables in the production data are NOT recorded in FIELD UNITS. They are:\n",
        "* Cum. gas production [100 * SCF]\n",
        "* Cum. oil production [100 * STB]\n",
        "* Gas FVF [RB / MSCF]\n",
        "* Volatile oil-gas ratio [STB / MMSCF]"
      ]
    },
    {
      "cell_type": "code",
      "metadata": {
        "id": "KHye366ud_FS"
      },
      "source": [
        "# see help to find out the required inputs\n"
      ],
      "execution_count": null,
      "outputs": []
    },
    {
      "cell_type": "code",
      "metadata": {
        "id": "9vEK1zkhfHyw"
      },
      "source": [
        "# input all the required ones. Gi = 0 (no gas injection)\n",
        "# variables need conversion: Bg, Gp, Np, Rv. \n",
        "\n",
        "\n",
        "\n",
        "# calculate parameters for plotting: use function \"calculate_params\"\n",
        "\n",
        "\n",
        "\n",
        "# create MBAL plots and automatically give in place results\n",
        "\n"
      ],
      "execution_count": null,
      "outputs": []
    },
    {
      "cell_type": "markdown",
      "metadata": {
        "id": "7Ed1eImUB5W_"
      },
      "source": [
        "## Undersaturated Non-Volatile Oil Reservoir"
      ]
    },
    {
      "cell_type": "markdown",
      "metadata": {
        "id": "kytNOLTNCGL3"
      },
      "source": [
        "We will do material balance plot analysis on an undersaturated non-volatile oil reservoir; the data is from Hugin reservoir in the Volve Field (Source: [Equinor Data Village](https://www.equinor.com/en/how-and-why/digitalisation-in-our-dna/volve-field-data-village-download.html))."
      ]
    },
    {
      "cell_type": "code",
      "metadata": {
        "id": "vljTeJR-Cla2"
      },
      "source": [
        "# load production data\n",
        "filepath = '/content/pyreservoir/data/volve/volve_production.csv'\n"
      ],
      "execution_count": null,
      "outputs": []
    },
    {
      "cell_type": "markdown",
      "metadata": {
        "id": "udqE5mF6XN_N"
      },
      "source": [
        "Now, the material balance plot analysis.\n",
        "\n",
        "The reservoir has some properties as listed:\n",
        "* Formation compressibility is 48.4 microsip\n",
        "* Water compressibility is 46.7 microsip\n",
        "* Initial water saturation 0.5\n",
        "* There is gas injection\n",
        "\n",
        "All variables are already in FIELD UNITS. No need for conversion."
      ]
    },
    {
      "cell_type": "code",
      "metadata": {
        "id": "WVfNp8jHZLSb"
      },
      "source": [
        "# list all column names: df.columns\n"
      ],
      "execution_count": null,
      "outputs": []
    },
    {
      "cell_type": "code",
      "metadata": {
        "id": "89rrFfhcW6P0"
      },
      "source": [
        "# input all the required ones\n",
        "\n",
        "\n",
        "# calculate parameters for plotting: use function \"calculate_params\"\n",
        "\n",
        "\n",
        "\n",
        "# create MBAL plots and automatically give in place results\n",
        "\n",
        "\n",
        "\n",
        "## Comment: Why end=4? It seems that this reservoir is water-driven (after\n",
        "## the first 4 points). Passing end=4 restricts the linear line, and it gives\n",
        "## OOIP very near to the computed OOIP by someone else: 22 MMSTB. Ours is 23 MMSTB."
      ],
      "execution_count": null,
      "outputs": []
    },
    {
      "cell_type": "markdown",
      "metadata": {
        "id": "ZlwCSg0vCnDP"
      },
      "source": [
        "## Aquifer Influx Calculation from the Volve Field"
      ]
    },
    {
      "cell_type": "markdown",
      "metadata": {
        "id": "_3M77wtBjE-p"
      },
      "source": [
        "The water drive is evident in the Hugin reservoir. We will calculate how many barrels of water encroach the reservoir using one of the models, the Van Everdingen and Hurst model. "
      ]
    },
    {
      "cell_type": "code",
      "metadata": {
        "id": "hIdIJFSuCq7S"
      },
      "source": [
        "# import veh function from aquifer\n"
      ],
      "execution_count": null,
      "outputs": []
    },
    {
      "cell_type": "code",
      "metadata": {
        "id": "woR97-ibcjfu"
      },
      "source": [
        "# see help to find the required inputs\n"
      ],
      "execution_count": null,
      "outputs": []
    },
    {
      "cell_type": "markdown",
      "metadata": {
        "id": "KT3xFX_7jgVf"
      },
      "source": [
        "It requires temporal data `datetime`, which is in the Date column. We need to convert it to Pandas datetime. "
      ]
    },
    {
      "cell_type": "code",
      "metadata": {
        "id": "njXCz9Egc5F6"
      },
      "source": [
        "# convert to datetime format\n"
      ],
      "execution_count": null,
      "outputs": []
    },
    {
      "cell_type": "markdown",
      "metadata": {
        "id": "6vASNyJJk_9v"
      },
      "source": [
        "First we need to calculate what it's called as the aquifer constant. We will use `calculate_aquifer_constant` function. \n",
        "\n",
        "Few things for our aquifer inputs:\n",
        "* Reservoir extent is 1.5 km (1 km = 3,281 ft)\n",
        "* Reservoir thickness is 30 ft\n",
        "* Porosity is 0.2\n",
        "* Permeability is 115 md\n",
        "* Water viscosity is 0.318 cp"
      ]
    },
    {
      "cell_type": "code",
      "metadata": {
        "id": "V9TzAlzEc-lC"
      },
      "source": [
        "# input the required ones\n",
        "\n",
        "\n",
        "# calculate aquifer constant (B') in unit RB/D-psi\n",
        "\n"
      ],
      "execution_count": null,
      "outputs": []
    },
    {
      "cell_type": "markdown",
      "metadata": {
        "id": "gECiW6u0lLnk"
      },
      "source": [
        "Once we know the aquifer constant, we can calculate the aquifer influx. We will use `calculate_aquifer` function."
      ]
    },
    {
      "cell_type": "code",
      "metadata": {
        "id": "1uG6bn2AeQp3"
      },
      "source": [
        "# input the required ones\n",
        "\n",
        "\n",
        "# calculate aquifer influx\n",
        "\n"
      ],
      "execution_count": null,
      "outputs": []
    },
    {
      "cell_type": "markdown",
      "metadata": {
        "id": "W0smlZO6lmH0"
      },
      "source": [
        "Finally we plot the aquifer influx."
      ]
    },
    {
      "cell_type": "code",
      "metadata": {
        "id": "neCVUCDjfAWJ"
      },
      "source": [
        "# plot aquifer influx\n"
      ],
      "execution_count": null,
      "outputs": []
    },
    {
      "cell_type": "markdown",
      "metadata": {
        "id": "txCKWYZyPZyt"
      },
      "source": [
        "## End of the training!\n",
        "\n",
        "Now we know how to:\n",
        "* Do simple linear regression\n",
        "* Read production data\n",
        "* Visualize production data (pressure, cumulative oil and gas productions) in one plot\n",
        "* Create material balance plots for different types of reservoirs and estimate for Initial Hydrocarbon in Place:\n",
        "  * Total oil original in place (OOIP)\n",
        "  * Total gas original in place (OGIP)\n",
        "  * Free-phase oil original in place (Nfoi)\n",
        "  * Free-phase gas original in place (Gfgi)\n",
        "* Calculate aquifer influx using VEH method"
      ]
    },
    {
      "cell_type": "markdown",
      "metadata": {
        "id": "xEp_aATsPYD1"
      },
      "source": [
        "## Copyright\n",
        "\n",
        "`PyReservoir` repository that stores all the functions and data, and this notebook, are copyrights of Yohanes Nuwara (2020). This notebook is contained in [this repository](https://github.com/yohanesnuwara/python-bootcamp-for-geoengineers) You may freely distribute for self-study and tutorials, but you will consider the authorship of all the codes written here. \n",
        "\n",
        "<a rel=\"license\" href=\"http://creativecommons.org/licenses/by/4.0/\"><img alt=\"Creative Commons License\" style=\"border-width:0\" src=\"https://i.creativecommons.org/l/by/4.0/88x31.png\" /></a><br />This work is licensed under a <a rel=\"license\" href=\"http://creativecommons.org/licenses/by/4.0/\">Creative Commons Attribution 4.0 International License</a>."
      ]
    }
  ]
}