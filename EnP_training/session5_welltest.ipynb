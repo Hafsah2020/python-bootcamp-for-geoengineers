{
  "nbformat": 4,
  "nbformat_minor": 0,
  "metadata": {
    "colab": {
      "name": "session5_welltest.ipynb",
      "provenance": [],
      "collapsed_sections": [
        "n2nvHFsq4zea"
      ],
      "authorship_tag": "ABX9TyNsWszvwXZMSYjsvpo2ROC/",
      "include_colab_link": true
    },
    "kernelspec": {
      "name": "python3",
      "display_name": "Python 3"
    }
  },
  "cells": [
    {
      "cell_type": "markdown",
      "metadata": {
        "id": "view-in-github",
        "colab_type": "text"
      },
      "source": [
        "<a href=\"https://colab.research.google.com/github/yohanesnuwara/python-bootcamp-for-geoengineers/blob/master/EnP_training/session5_welltest.ipynb\" target=\"_parent\"><img src=\"https://colab.research.google.com/assets/colab-badge.svg\" alt=\"Open In Colab\"/></a>"
      ]
    },
    {
      "cell_type": "markdown",
      "metadata": {
        "id": "_TXm5mtT05by"
      },
      "source": [
        "# Well Test Modeling and Analysis with Python"
      ]
    },
    {
      "cell_type": "code",
      "metadata": {
        "id": "1QV4hai3zVXG"
      },
      "source": [
        "# import libraries\n"
      ],
      "execution_count": null,
      "outputs": []
    },
    {
      "cell_type": "code",
      "metadata": {
        "id": "CkwtYaxa1c27"
      },
      "source": [
        "# clone to \"PyReservoir\" GitHub repository\n",
        "!git clone https://github.com/yohanesnuwara/pyreservoir"
      ],
      "execution_count": null,
      "outputs": []
    },
    {
      "cell_type": "code",
      "metadata": {
        "id": "dBkHoBfs1j7T"
      },
      "source": [
        "# import system to access the repository\n",
        "import sys\n",
        "sys.path.append('/content/pyreservoir/welltest')"
      ],
      "execution_count": null,
      "outputs": []
    },
    {
      "cell_type": "code",
      "metadata": {
        "id": "Vnyf0jAS3y-w"
      },
      "source": [
        "# import functions for well test modeling and analysis\n"
      ],
      "execution_count": null,
      "outputs": []
    },
    {
      "cell_type": "markdown",
      "metadata": {
        "id": "n2nvHFsq4zea"
      },
      "source": [
        "## Functions"
      ]
    },
    {
      "cell_type": "code",
      "metadata": {
        "id": "TTm3wUN541g9"
      },
      "source": [
        "def datetime_to_days(t):\n",
        "  \"\"\"\n",
        "  Convert list of datetimes to days from 0 to N\n",
        "\n",
        "  Input:\n",
        "\n",
        "  t is the datetime in dataframe format\n",
        "  \"\"\"\n",
        "  import datetime\n",
        "\n",
        "  # subtract one datetime to another datetime\n",
        "  timedelta = [j-i for i, j in zip(t[:-1], t[1:])]\n",
        "  timedelta = np.array(timedelta)\n",
        "  timedelta = timedelta / datetime.timedelta(days=1)\n",
        "\n",
        "  # take cumulative sum over timedeltas\n",
        "  t = np.cumsum(timedelta)\n",
        "  t = np.append(0, t)\n",
        "  t = t.astype(float)\n",
        "\n",
        "  return t"
      ],
      "execution_count": null,
      "outputs": []
    },
    {
      "cell_type": "markdown",
      "metadata": {
        "id": "zduj2I9i1ytr"
      },
      "source": [
        "## Modeling a Multirate Test"
      ]
    },
    {
      "cell_type": "markdown",
      "metadata": {
        "id": "YmxcrMQbXA6z"
      },
      "source": [
        "We want to model how the pressure transient response of a well is if we conduct a series of rate-changing test (or we call as: multirate test). The following is the series of rate we want to model.\n",
        "\n",
        "|Hours|Rate (STB/D)|\n",
        "|:--:|:--:|\n",
        "|$$0 < t \\leq 10$$|1,000|\n",
        "|$$10 < t \\leq 20$$|2,000|\n",
        "|$$20 < t \\leq 30$$|3,000|\n",
        "|$$30 < t \\leq 45$$|1,500|\n",
        "|$$45 < t \\leq 65$$|0|\n",
        "|$$65 < t \\leq 70$$|1,000|\n",
        "\n",
        "Reservoir rock and fluid properties:\n",
        "* Reservoir initial pressure 2,500 psia\n",
        "* Porosity 15%\n",
        "* Total compressibility 12 microsip\n",
        "* Permeability 600 md\n",
        "* Radius of wellbore 4 inch (1 inch = 0.0833 ft)\n",
        "* Reservoir thickness 32 ft\n",
        "* Oil viscosity 2 cp\n",
        "* Distance from wellbore to reservoir outer boundary 3,000 ft \n",
        "* Oil FVF 1.33 RB/STB"
      ]
    },
    {
      "cell_type": "markdown",
      "metadata": {
        "id": "NNG3m_JF56h0"
      },
      "source": [
        "First we want to plot the rates."
      ]
    },
    {
      "cell_type": "code",
      "metadata": {
        "id": "DAgnjZOr1xas"
      },
      "source": [
        "# plot the rate: use plt.step\n"
      ],
      "execution_count": null,
      "outputs": []
    },
    {
      "cell_type": "code",
      "metadata": {
        "id": "BwzAVBsI2g7l"
      },
      "source": [
        "# Inputs\n"
      ],
      "execution_count": null,
      "outputs": []
    },
    {
      "cell_type": "markdown",
      "metadata": {
        "id": "6U0JSWFX4YUQ"
      },
      "source": [
        "Before we do modeling, we need to know how much time until the flow behaves finite-acting (or we call as finite-acting time)"
      ]
    },
    {
      "cell_type": "code",
      "metadata": {
        "id": "upGqxKbu3azr"
      },
      "source": [
        "# we use \"time_finite_acting\" function. See help first\n"
      ],
      "execution_count": null,
      "outputs": []
    },
    {
      "cell_type": "code",
      "metadata": {
        "id": "IaF_hv_S5Lmo"
      },
      "source": [
        "# calculate finite-acting time\n"
      ],
      "execution_count": null,
      "outputs": []
    },
    {
      "cell_type": "markdown",
      "metadata": {
        "id": "0EJFX0zo55P3"
      },
      "source": [
        "Finally, we do modeling. \n"
      ]
    },
    {
      "cell_type": "code",
      "metadata": {
        "id": "TCSiFsgW6ByP"
      },
      "source": [
        "# we use \"simulate_multirate_test\" function. See help first\n"
      ],
      "execution_count": null,
      "outputs": []
    },
    {
      "cell_type": "markdown",
      "metadata": {
        "id": "ufpXeKhs7VYg"
      },
      "source": [
        "We need to specify the time steps. Smaller timestep will result a better result, but requires more time to compute. Here we'll use timestep of 0.1 hour, that is enough."
      ]
    },
    {
      "cell_type": "code",
      "metadata": {
        "id": "GTFnWbq86qRz"
      },
      "source": [
        "# specify time step\n",
        "\n",
        "\n",
        "# simulate\n"
      ],
      "execution_count": null,
      "outputs": []
    },
    {
      "cell_type": "markdown",
      "metadata": {
        "id": "uWsx5c949Y5S"
      },
      "source": [
        "Now, change the porosity, permeability, compressibility, viscosity, reservoir size, and oil FVF. See their effects on the finite-acting time and the pressure transient profile. Make the following cell your playground! "
      ]
    },
    {
      "cell_type": "code",
      "metadata": {
        "id": "O5U5CzjY9bfR"
      },
      "source": [
        "# change variables and see affects on the transient profile\n"
      ],
      "execution_count": null,
      "outputs": []
    },
    {
      "cell_type": "markdown",
      "metadata": {
        "id": "VilgecL9-wFn"
      },
      "source": [
        "## Modeling a Multiple Pressure Test"
      ]
    },
    {
      "cell_type": "markdown",
      "metadata": {
        "id": "QkQFOhsc-wFo"
      },
      "source": [
        "We want to model how the rate transient response of a well is if we conduct a series of pressure-changing test (or we call as: multiple pressure test). The following is the series of rate we want to model.\n",
        "\n",
        "|Hours|BHFP (psia)|\n",
        "|:--:|:--:|\n",
        "|$$0 < t \\leq 20$$|1,500|\n",
        "|$$10 < t \\leq 40$$|1,200|\n",
        "|$$20 < t \\leq 60$$|1,000|\n",
        "|$$30 < t \\leq 80$$|1,400|\n",
        "|$$45 < t \\leq 100$$|1,600|\n",
        "|$$65 < t \\leq 120$$|1,000|\n",
        "\n",
        "We use the same property as before. Reservoir rock and fluid properties:\n",
        "* Reservoir initial pressure 2,500 psia\n",
        "* Porosity 15%\n",
        "* Total compressibility 12 microsip\n",
        "* Permeability 600 md\n",
        "* Radius of wellbore 4 inch (1 inch = 0.0833 ft)\n",
        "* Reservoir thickness 32 ft\n",
        "* Oil viscosity 2 cp\n",
        "* Distance from wellbore to reservoir outer boundary 3,000 ft \n",
        "* Oil FVF 1.33 RB/STB"
      ]
    },
    {
      "cell_type": "markdown",
      "metadata": {
        "id": "nzfC8MYU-wFo"
      },
      "source": [
        "First we want to plot the BHFP (borehole flowing pressure)"
      ]
    },
    {
      "cell_type": "code",
      "metadata": {
        "id": "KQ6qChQL-wFo"
      },
      "source": [
        "# plot the pressure: use plt.step\n"
      ],
      "execution_count": null,
      "outputs": []
    },
    {
      "cell_type": "code",
      "metadata": {
        "id": "u5xRiYMA-wFq"
      },
      "source": [
        "# Inputs\n"
      ],
      "execution_count": null,
      "outputs": []
    },
    {
      "cell_type": "markdown",
      "metadata": {
        "id": "luyS26xa-wFq"
      },
      "source": [
        "Calculate finite-acting time."
      ]
    },
    {
      "cell_type": "code",
      "metadata": {
        "id": "Rlk--Qeh-wFq"
      },
      "source": [
        "# calculate finite-acting time\n"
      ],
      "execution_count": null,
      "outputs": []
    },
    {
      "cell_type": "markdown",
      "metadata": {
        "id": "aaTZRgl8-wFr"
      },
      "source": [
        "Specify the timestep and do modeling.\n"
      ]
    },
    {
      "cell_type": "code",
      "metadata": {
        "id": "KcXLpMip-wFr"
      },
      "source": [
        "# specify time step\n",
        "\n",
        "\n",
        "# simulate\n"
      ],
      "execution_count": null,
      "outputs": []
    },
    {
      "cell_type": "markdown",
      "metadata": {
        "id": "GUctjj0e-wFr"
      },
      "source": [
        "Now, change the porosity, permeability, compressibility, viscosity, reservoir size, and oil FVF. See their effects on the finite-acting time and the rate transient profile. Make the following cell your playground! "
      ]
    },
    {
      "cell_type": "code",
      "metadata": {
        "id": "H_qFmr1V-wFr"
      },
      "source": [
        "# change variables and see affects on the transient profile\n"
      ],
      "execution_count": null,
      "outputs": []
    },
    {
      "cell_type": "markdown",
      "metadata": {
        "id": "a0S_E0RPQws3"
      },
      "source": [
        "## BHP Data Processing and Visualization"
      ]
    },
    {
      "cell_type": "markdown",
      "metadata": {
        "id": "uwJ0_IdxQ099"
      },
      "source": [
        "We'll see a BHP data from the Volve Field (one of the wells, named well 15/9-F-1C). Load it first."
      ]
    },
    {
      "cell_type": "code",
      "metadata": {
        "id": "ykPBy_IBRCjU"
      },
      "source": [
        "# load Volve BHP data\n",
        "filepath = '/content/pyreservoir/data/volve/Volve_BHP_15_9-F-1C.csv'\n",
        "\n"
      ],
      "execution_count": 1,
      "outputs": []
    },
    {
      "cell_type": "markdown",
      "metadata": {
        "id": "GS2M6rzeR7xJ"
      },
      "source": [
        "You have learnt before that the date column should be converted to Pandas standard datetime format first. We need to look at how the date was written there: /DD/MM/YYYY"
      ]
    },
    {
      "cell_type": "code",
      "metadata": {
        "id": "8gAKfhZuTq-O"
      },
      "source": [
        "# convert to Pandas standard datetime format\n"
      ],
      "execution_count": null,
      "outputs": []
    },
    {
      "cell_type": "markdown",
      "metadata": {
        "id": "zT4GNEmJUCQ1"
      },
      "source": [
        "Now we make two plots, each for rate and pressure. For rate, use `plt.step` style; for pressure, use `plt.plot` style. Use subplots. "
      ]
    },
    {
      "cell_type": "code",
      "metadata": {
        "id": "xEn4_IUrUGq_"
      },
      "source": [
        "# define variables for plotting\n",
        "\n",
        "\n",
        "# First plot: rate\n",
        "\n",
        "\n",
        "# Second plot: BHP\n"
      ],
      "execution_count": null,
      "outputs": []
    },
    {
      "cell_type": "markdown",
      "metadata": {
        "id": "LK7q79cuV9pb"
      },
      "source": [
        "Zoom in to your interest. Adjust the `xlim`."
      ]
    },
    {
      "cell_type": "code",
      "metadata": {
        "id": "gcFfuXMhWC3l"
      },
      "source": [
        "# adjust the date to zoom in\n",
        "\n",
        "\n",
        "# First plot: rate\n",
        "\n",
        "# Second plot: BHP\n"
      ],
      "execution_count": null,
      "outputs": []
    },
    {
      "cell_type": "markdown",
      "metadata": {
        "id": "RucrqrgtlNYy"
      },
      "source": [
        "## Well test analysis"
      ]
    },
    {
      "cell_type": "markdown",
      "metadata": {
        "id": "lxqnVXuW6SLv"
      },
      "source": [
        "BHP data has been prepared for you, that contains a pressure drawdown from the beginning of test to hour 46, followed by a pressure buildup from hour 46 to hour 70. \n",
        "\n",
        "|Hours|Rate (STB/D)|\n",
        "|:--:|:--:|\n",
        "|$$0<t<46$$|1,000|\n",
        "|$$46<t<70$$|0|\n",
        "\n",
        "The reservoir has properties as listed below:\n",
        "* 15% porosity\n",
        "* Wellbore radius 0.333 ft\n",
        "* Reservoir thickness 32 ft\n",
        "* 12 microsip of total compressibility\n",
        "* Reservoir initial pressure 3,500 psia (an estimate)\n",
        "* 2 cp oil viscosity\n",
        "* 1.33 RB/STB oil FVF"
      ]
    },
    {
      "cell_type": "code",
      "metadata": {
        "id": "AimOVb3G4CVZ"
      },
      "source": [
        "# read BHP data for well-test analysis\n",
        "filepath = '/content/pyreservoir/data/welltest/drawdown+buildup.csv'\n"
      ],
      "execution_count": null,
      "outputs": []
    },
    {
      "cell_type": "markdown",
      "metadata": {
        "id": "y9FjxGhq6qUf"
      },
      "source": [
        "Plot the BHP data and give colors to separate drawdown and buildup."
      ]
    },
    {
      "cell_type": "code",
      "metadata": {
        "id": "1WT1uh5L5dVL"
      },
      "source": [
        "# plot the BHP data and divide where to analyse drawdown and buildup\n"
      ],
      "execution_count": null,
      "outputs": []
    },
    {
      "cell_type": "markdown",
      "metadata": {
        "id": "q_RMFE8566xS"
      },
      "source": [
        "Now, let's separate the dataframe, each for drawdown and buildup analysis. We will use mask (remember our session 3)"
      ]
    },
    {
      "cell_type": "code",
      "metadata": {
        "id": "ykytxsWt6_g8"
      },
      "source": [
        "# create mask for drawdown (<=46 hours) and buildup (>=46 hours)\n"
      ],
      "execution_count": null,
      "outputs": []
    },
    {
      "cell_type": "markdown",
      "metadata": {
        "id": "xn0DtJFr6y16"
      },
      "source": [
        "### Drawdown analysis"
      ]
    },
    {
      "cell_type": "markdown",
      "metadata": {
        "id": "Mt57kLuqN75o"
      },
      "source": [
        "We will do analysis of pressure drawdown from hour 0 to hour 46. We'll use function `constant_rate_drawdown_test`."
      ]
    },
    {
      "cell_type": "code",
      "metadata": {
        "id": "CbvVT1L6MMVH"
      },
      "source": [
        "# see help\n"
      ],
      "execution_count": null,
      "outputs": []
    },
    {
      "cell_type": "markdown",
      "metadata": {
        "id": "zM_4t_IiO1y6"
      },
      "source": [
        "List down all inputs."
      ]
    },
    {
      "cell_type": "code",
      "metadata": {
        "id": "OhMm4zFc61Wo"
      },
      "source": [
        "# list down all inputs\n",
        "\n",
        "## time, rate, and pressure data\n",
        "\n",
        "\n",
        "## reservoir properties\n",
        "\n"
      ],
      "execution_count": null,
      "outputs": []
    },
    {
      "cell_type": "markdown",
      "metadata": {
        "id": "x8-VsGEgNnJS"
      },
      "source": [
        "Do the drawdown analysis. Pass without `your_guess` first. "
      ]
    },
    {
      "cell_type": "code",
      "metadata": {
        "id": "hZwKOzANGvJm"
      },
      "source": [
        "# well-test analysis\n"
      ],
      "execution_count": null,
      "outputs": []
    },
    {
      "cell_type": "markdown",
      "metadata": {
        "id": "NT-Q8MWgNt9R"
      },
      "source": [
        "It should look that MTR and LTR are not separated enough rightly. Now define yourselves where to separate it. Use `your_guess` and adjust it.  "
      ]
    },
    {
      "cell_type": "code",
      "metadata": {
        "id": "6iLjeI-nN72_"
      },
      "source": [
        "# well-test analysis, use \"your_guess\"\n"
      ],
      "execution_count": null,
      "outputs": []
    },
    {
      "cell_type": "markdown",
      "metadata": {
        "id": "BnykdBV363vc"
      },
      "source": [
        "### Buildup analysis"
      ]
    },
    {
      "cell_type": "markdown",
      "metadata": {
        "id": "7FyaCMAiOE-h"
      },
      "source": [
        "For the buildup analysis, we analyze the portion of BHP data from hour 46 to hour 70. The reservoir is still the same. We'll use function `constant_rate_buildup_test`."
      ]
    },
    {
      "cell_type": "code",
      "metadata": {
        "id": "VRtY7pGcOMtw"
      },
      "source": [
        "# see help\n"
      ],
      "execution_count": null,
      "outputs": []
    },
    {
      "cell_type": "markdown",
      "metadata": {
        "id": "ChprcFsjOsj3"
      },
      "source": [
        "List down all inputs. The reservoir properties have been defined before. We add here `t_since_shutin` as how long the test continues (since hour 0) before flow stopped. It was hour 46. "
      ]
    },
    {
      "cell_type": "code",
      "metadata": {
        "id": "OQemlD0E8wZ8"
      },
      "source": [
        "# list down all inputs\n",
        "\n",
        "## define time, rate, and pressure\n",
        "\n",
        "\n",
        "## define flow stopping time\n"
      ],
      "execution_count": null,
      "outputs": []
    },
    {
      "cell_type": "markdown",
      "metadata": {
        "id": "aslqU1EsPy7X"
      },
      "source": [
        "Now do the buildup analysis. Just like before we first use it without passing `your_guess`."
      ]
    },
    {
      "cell_type": "code",
      "metadata": {
        "id": "wtfaUoVa65Oe"
      },
      "source": [
        "# well-test analysis\n"
      ],
      "execution_count": null,
      "outputs": []
    },
    {
      "cell_type": "markdown",
      "metadata": {
        "id": "z1zUsNxOQH32"
      },
      "source": [
        "It should look that ETR and MTR are not separated enough rightly. Now define yourselves where to separate it. Use `your_guess` and adjust it.  "
      ]
    },
    {
      "cell_type": "code",
      "metadata": {
        "id": "oF_CQq3FQPjK"
      },
      "source": [
        "# well-test analysis. Pass \"your_guess\"\n"
      ],
      "execution_count": null,
      "outputs": []
    },
    {
      "cell_type": "markdown",
      "metadata": {
        "id": "jAl1l9IsQr9j"
      },
      "source": [
        "## End of Training!\n",
        "\n",
        "Now we know how to:\n",
        "* Simulate pressure and rate transient response from multirate and multiple pressure test\n",
        "* Processing and visualization of borehole pressure (BHP) data\n",
        "* Analysis of constant rate drawdown and buildup test"
      ]
    },
    {
      "cell_type": "markdown",
      "metadata": {
        "id": "Vbaq0_bEM5vu"
      },
      "source": [
        "## Copyright\n",
        "\n",
        "`PyReservoir` repository that stores all the functions and data, and this notebook, are copyrights of Yohanes Nuwara (2020). This notebook is contained in [this repository](https://github.com/yohanesnuwara/python-bootcamp-for-geoengineers) You may freely distribute for self-study and tutorials, but you will consider the authorship of all the codes written here. \n",
        "\n",
        "<a rel=\"license\" href=\"http://creativecommons.org/licenses/by/4.0/\"><img alt=\"Creative Commons License\" style=\"border-width:0\" src=\"https://i.creativecommons.org/l/by/4.0/88x31.png\" /></a><br />This work is licensed under a <a rel=\"license\" href=\"http://creativecommons.org/licenses/by/4.0/\">Creative Commons Attribution 4.0 International License</a>."
      ]
    }
  ]
}