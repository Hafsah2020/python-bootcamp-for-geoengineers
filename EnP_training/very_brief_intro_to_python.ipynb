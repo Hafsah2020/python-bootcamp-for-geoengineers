{
  "nbformat": 4,
  "nbformat_minor": 0,
  "metadata": {
    "colab": {
      "name": "very-brief-intro-to-python.ipynb",
      "provenance": [],
      "collapsed_sections": [],
      "authorship_tag": "ABX9TyPADhpi7Squ2FviSW5aM1Xu",
      "include_colab_link": true
    },
    "kernelspec": {
      "name": "python3",
      "display_name": "Python 3"
    }
  },
  "cells": [
    {
      "cell_type": "markdown",
      "metadata": {
        "id": "view-in-github",
        "colab_type": "text"
      },
      "source": [
        "<a href=\"https://colab.research.google.com/github/yohanesnuwara/python-bootcamp-for-geoengineers/blob/master/EnP_training/very_brief_intro_to_python.ipynb\" target=\"_parent\"><img src=\"https://colab.research.google.com/assets/colab-badge.svg\" alt=\"Open In Colab\"/></a>"
      ]
    },
    {
      "cell_type": "markdown",
      "metadata": {
        "id": "3rNHyqlvt7QR"
      },
      "source": [
        "# Very Brief Intro to Python "
      ]
    },
    {
      "cell_type": "markdown",
      "metadata": {
        "id": "27zIz-OxyV1T"
      },
      "source": [
        "This is a notebook for very brief intro to Python. There is also a notebook to learn more, you may want to check [here](https://colab.research.google.com/github/yohanesnuwara/python-bootcamp-for-geoengineers/blob/master/petroweek_notebooks/petroweek2020_unit1.ipynb). Happy learning! "
      ]
    },
    {
      "cell_type": "markdown",
      "metadata": {
        "id": "9wBPxCMUxqc-"
      },
      "source": [
        "## Using libraries"
      ]
    },
    {
      "cell_type": "code",
      "metadata": {
        "id": "Lzghh1FH9anX"
      },
      "source": [
        "# import libraries. These one have been pre-installed.\n",
        "import numpy as np\n",
        "import matplotlib.pyplot as plt\n",
        "import pandas as pd\n",
        "\n",
        "# this is style for plotting. There are many, you can try: 'classic', 'seaborn'\n",
        "# but if you don't want any style, you can just omit this code. \n",
        "plt.style.use('ggplot')"
      ],
      "execution_count": 12,
      "outputs": []
    },
    {
      "cell_type": "markdown",
      "metadata": {
        "id": "wy_3HI6brnpY"
      },
      "source": [
        "## Very Brief Intro to Numpy"
      ]
    },
    {
      "cell_type": "code",
      "metadata": {
        "id": "1AP4JcpKrtaM",
        "outputId": "24fc96c0-810b-45ed-af1a-e5ac855ce99b",
        "colab": {
          "base_uri": "https://localhost:8080/"
        }
      },
      "source": [
        "# generate array from 0 to 10 into 100 numbers\n",
        "a = np.linspace(0, 10, 100)\n",
        "print(a)"
      ],
      "execution_count": 31,
      "outputs": [
        {
          "output_type": "stream",
          "text": [
            "[ 0.          0.1010101   0.2020202   0.3030303   0.4040404   0.50505051\n",
            "  0.60606061  0.70707071  0.80808081  0.90909091  1.01010101  1.11111111\n",
            "  1.21212121  1.31313131  1.41414141  1.51515152  1.61616162  1.71717172\n",
            "  1.81818182  1.91919192  2.02020202  2.12121212  2.22222222  2.32323232\n",
            "  2.42424242  2.52525253  2.62626263  2.72727273  2.82828283  2.92929293\n",
            "  3.03030303  3.13131313  3.23232323  3.33333333  3.43434343  3.53535354\n",
            "  3.63636364  3.73737374  3.83838384  3.93939394  4.04040404  4.14141414\n",
            "  4.24242424  4.34343434  4.44444444  4.54545455  4.64646465  4.74747475\n",
            "  4.84848485  4.94949495  5.05050505  5.15151515  5.25252525  5.35353535\n",
            "  5.45454545  5.55555556  5.65656566  5.75757576  5.85858586  5.95959596\n",
            "  6.06060606  6.16161616  6.26262626  6.36363636  6.46464646  6.56565657\n",
            "  6.66666667  6.76767677  6.86868687  6.96969697  7.07070707  7.17171717\n",
            "  7.27272727  7.37373737  7.47474747  7.57575758  7.67676768  7.77777778\n",
            "  7.87878788  7.97979798  8.08080808  8.18181818  8.28282828  8.38383838\n",
            "  8.48484848  8.58585859  8.68686869  8.78787879  8.88888889  8.98989899\n",
            "  9.09090909  9.19191919  9.29292929  9.39393939  9.49494949  9.5959596\n",
            "  9.6969697   9.7979798   9.8989899  10.        ]\n"
          ],
          "name": "stdout"
        }
      ]
    },
    {
      "cell_type": "code",
      "metadata": {
        "id": "jo482MwysGx7",
        "outputId": "2cafcc24-c474-4024-dc72-f67fb1bdcc3c",
        "colab": {
          "base_uri": "https://localhost:8080/"
        }
      },
      "source": [
        "# generate array from 0 to 10 with increment of 0.25\n",
        "b = np.arange(0, 10, 0.25)\n",
        "print(b)"
      ],
      "execution_count": 32,
      "outputs": [
        {
          "output_type": "stream",
          "text": [
            "[0.   0.25 0.5  0.75 1.   1.25 1.5  1.75 2.   2.25 2.5  2.75 3.   3.25\n",
            " 3.5  3.75 4.   4.25 4.5  4.75 5.   5.25 5.5  5.75 6.   6.25 6.5  6.75\n",
            " 7.   7.25 7.5  7.75 8.   8.25 8.5  8.75 9.   9.25 9.5  9.75]\n"
          ],
          "name": "stdout"
        }
      ]
    },
    {
      "cell_type": "code",
      "metadata": {
        "id": "02YeBT6UshSD",
        "outputId": "70a43150-e129-48c2-93ff-709b7fbe3614",
        "colab": {
          "base_uri": "https://localhost:8080/"
        }
      },
      "source": [
        "# generate 100 uniform random numbers from 0 to 1\n",
        "c = np.random.random(100)\n",
        "print(c)"
      ],
      "execution_count": 33,
      "outputs": [
        {
          "output_type": "stream",
          "text": [
            "[0.06271641 0.84059907 0.93631502 0.4105495  0.4366828  0.80674812\n",
            " 0.11499814 0.25113031 0.97106684 0.85181778 0.21059253 0.69901868\n",
            " 0.30253948 0.24178122 0.38980028 0.76120142 0.72298407 0.57884657\n",
            " 0.64937415 0.42691989 0.99936515 0.53249799 0.44871296 0.46200557\n",
            " 0.54352513 0.21811164 0.33975938 0.59161285 0.96058767 0.41063232\n",
            " 0.97949453 0.52216224 0.09316402 0.82459009 0.44937344 0.19771277\n",
            " 0.08246336 0.69515185 0.28866627 0.23361029 0.63478602 0.52177929\n",
            " 0.84935292 0.56927056 0.26741799 0.14553367 0.73545928 0.89551321\n",
            " 0.10552551 0.15782554 0.56070725 0.49757164 0.96738045 0.13882024\n",
            " 0.50748263 0.63565063 0.63753857 0.39261808 0.41205253 0.54826092\n",
            " 0.77198699 0.51717877 0.09984708 0.17657962 0.5716617  0.44753134\n",
            " 0.25421025 0.83113165 0.61910675 0.44473912 0.20686361 0.58735699\n",
            " 0.65604469 0.80112058 0.65692192 0.52961714 0.75158991 0.21859303\n",
            " 0.73827733 0.04736442 0.24721551 0.33872318 0.94283929 0.27653502\n",
            " 0.40291684 0.97492395 0.5605706  0.67186271 0.93494347 0.24894583\n",
            " 0.24855647 0.37986066 0.01700445 0.77480828 0.58049646 0.99249471\n",
            " 0.93013956 0.00650611 0.57805366 0.4116233 ]\n"
          ],
          "name": "stdout"
        }
      ]
    },
    {
      "cell_type": "code",
      "metadata": {
        "id": "Z9jaUxxbsqQ9",
        "outputId": "c0dd7efb-ddbb-4568-e04e-052bcf62e3e3",
        "colab": {
          "base_uri": "https://localhost:8080/"
        }
      },
      "source": [
        "# multiplying a and c arrays\n",
        "print(a * c)"
      ],
      "execution_count": 34,
      "outputs": [
        {
          "output_type": "stream",
          "text": [
            "[0.         0.084909   0.18915455 0.12440894 0.1764375  0.40744854\n",
            " 0.06969584 0.17756689 0.78470048 0.7743798  0.21271973 0.77668742\n",
            " 0.36671453 0.31749049 0.55123272 1.15333549 1.1684591  0.99397896\n",
            " 1.18068027 0.81934121 2.01891949 1.12954119 0.99713991 1.07334627\n",
            " 1.31763667 0.55078697 0.89229736 1.61348959 2.71681361 1.20286236\n",
            " 2.96816524 1.63505348 0.30113623 2.74863363 1.54330271 0.69898455\n",
            " 0.29986678 2.59804225 1.10801194 0.92028295 2.56479199 2.16090412\n",
            " 3.6033154  2.4725893  1.18852439 0.6615167  3.41728555 4.25142635\n",
            " 0.51163881 0.78115669 2.83185477 2.56324782 5.08119025 0.74317908\n",
            " 2.76808705 3.53139241 3.6062788  2.26052833 2.4140451  3.26741356\n",
            " 4.67870905 3.18665708 0.62530493 1.12368851 3.69559078 2.93833711\n",
            " 1.69473503 5.62483038 4.25245041 3.09969692 1.46267201 4.21235821\n",
            " 4.77123413 5.90725274 4.91032549 4.01225107 5.76978113 1.70016802\n",
            " 5.81673049 0.37795853 1.99770107 2.77137149 7.80937592 2.31842495\n",
            " 3.41868837 8.37055914 4.86960315 5.90424807 8.31060865 2.2379979\n",
            " 2.25960423 3.49164852 0.15802118 7.27850202 5.51178455 9.52393914\n",
            " 9.01953514 0.06374676 5.72214735 4.11623304]\n"
          ],
          "name": "stdout"
        }
      ]
    },
    {
      "cell_type": "code",
      "metadata": {
        "id": "Pao-uz0YtTkg",
        "outputId": "dd7c3fe8-10f7-4df8-9633-63931721fd67",
        "colab": {
          "base_uri": "https://localhost:8080/"
        }
      },
      "source": [
        "# make a function y=f(x), b as input\n",
        "def cubic(x, a, b, c):\n",
        "  y = a* (x**3) + b * (x**2) + c * x\n",
        "  return y\n",
        "\n",
        "y = cubic(b, 0.5, 0.25, 0.75)\n",
        "print(y)"
      ],
      "execution_count": 39,
      "outputs": [
        {
          "output_type": "stream",
          "text": [
            "[0.00000000e+00 2.10937500e-01 5.00000000e-01 9.14062500e-01\n",
            " 1.50000000e+00 2.30468750e+00 3.37500000e+00 4.75781250e+00\n",
            " 6.50000000e+00 8.64843750e+00 1.12500000e+01 1.43515625e+01\n",
            " 1.80000000e+01 2.22421875e+01 2.71250000e+01 3.26953125e+01\n",
            " 3.90000000e+01 4.60859375e+01 5.40000000e+01 6.27890625e+01\n",
            " 7.25000000e+01 8.31796875e+01 9.48750000e+01 1.07632812e+02\n",
            " 1.21500000e+02 1.36523438e+02 1.52750000e+02 1.70226562e+02\n",
            " 1.89000000e+02 2.09117188e+02 2.30625000e+02 2.53570312e+02\n",
            " 2.78000000e+02 3.03960938e+02 3.31500000e+02 3.60664062e+02\n",
            " 3.91500000e+02 4.24054688e+02 4.58375000e+02 4.94507812e+02]\n"
          ],
          "name": "stdout"
        }
      ]
    },
    {
      "cell_type": "code",
      "metadata": {
        "id": "pEE6w7_OsyPS",
        "outputId": "656504cc-19ca-47f2-fdb8-c259eb5ca134",
        "colab": {
          "base_uri": "https://localhost:8080/"
        }
      },
      "source": [
        "# make a 2D array and transpose it\n",
        "d = np.array([[1,2,3,4,5],\n",
        "              [6,7,8,9,10],\n",
        "              [11,12,13,14,15]])\n",
        "d_trans = d.T\n",
        "print(d)\n",
        "print(d_trans)"
      ],
      "execution_count": 38,
      "outputs": [
        {
          "output_type": "stream",
          "text": [
            "[[ 1  2  3  4  5]\n",
            " [ 6  7  8  9 10]\n",
            " [11 12 13 14 15]]\n",
            "[[ 1  6 11]\n",
            " [ 2  7 12]\n",
            " [ 3  8 13]\n",
            " [ 4  9 14]\n",
            " [ 5 10 15]]\n"
          ],
          "name": "stdout"
        }
      ]
    },
    {
      "cell_type": "markdown",
      "metadata": {
        "id": "bUb_CDqGtNhm"
      },
      "source": [
        "## Very Brief Intro to Matplotlib"
      ]
    },
    {
      "cell_type": "code",
      "metadata": {
        "id": "te0aSEtS9ten",
        "outputId": "51b87a27-726d-49f5-de0c-1f0c695d38b0",
        "colab": {
          "base_uri": "https://localhost:8080/",
          "height": 388
        }
      },
      "source": [
        "# make a trigonometric array\n",
        "x = np.linspace(0,360,100)\n",
        "xrad = np.deg2rad(x)\n",
        "\n",
        "y1 = np.sin(xrad)\n",
        "y2 = np.cos(xrad)\n",
        "\n",
        "# plot this function\n",
        "plt.plot(xrad, y1)\n",
        "plt.plot(xrad, y2)\n",
        "plt.title('Trigonometric Function', size=20, pad=10)\n",
        "plt.xlabel('X')\n",
        "plt.ylabel('Y')\n",
        "# plt.xlim(min(x), max(x))\n",
        "\n",
        "plt.show()"
      ],
      "execution_count": 15,
      "outputs": [
        {
          "output_type": "display_data",
          "data": {
            "image/png": "[encoded data removed]",
            "text/plain": [
              "<Figure size 576x396 with 1 Axes>"
            ]
          },
          "metadata": {
            "tags": []
          }
        }
      ]
    },
    {
      "cell_type": "markdown",
      "metadata": {
        "id": "fM7KbBAJuj7i"
      },
      "source": [
        "## Very Brief Intro to Pandas"
      ]
    },
    {
      "cell_type": "code",
      "metadata": {
        "id": "Md9v557b_Gmt",
        "outputId": "15e8afd8-0cb9-4063-92da-a9b51bedf472",
        "colab": {
          "base_uri": "https://localhost:8080/",
          "height": 408
        }
      },
      "source": [
        "# convert the trigonometry result into a dataframe (a.k.a spreadsheet)\n",
        "trig = pd.DataFrame({'X': x, 'sin(x)': y1, 'cos(x)': y2})\n",
        "\n",
        "# print it\n",
        "trig"
      ],
      "execution_count": 40,
      "outputs": [
        {
          "output_type": "execute_result",
          "data": {
            "text/html": [
              "<div>\n",
              "<style scoped>\n",
              "    .dataframe tbody tr th:only-of-type {\n",
              "        vertical-align: middle;\n",
              "    }\n",
              "\n",
              "    .dataframe tbody tr th {\n",
              "        vertical-align: top;\n",
              "    }\n",
              "\n",
              "    .dataframe thead th {\n",
              "        text-align: right;\n",
              "    }\n",
              "</style>\n",
              "<table border=\"1\" class=\"dataframe\">\n",
              "  <thead>\n",
              "    <tr style=\"text-align: right;\">\n",
              "      <th></th>\n",
              "      <th>X</th>\n",
              "      <th>sin(x)</th>\n",
              "      <th>cos(x)</th>\n",
              "    </tr>\n",
              "  </thead>\n",
              "  <tbody>\n",
              "    <tr>\n",
              "      <th>0</th>\n",
              "      <td>0.000000</td>\n",
              "      <td>0.000000e+00</td>\n",
              "      <td>1.000000</td>\n",
              "    </tr>\n",
              "    <tr>\n",
              "      <th>1</th>\n",
              "      <td>3.636364</td>\n",
              "      <td>6.342392e-02</td>\n",
              "      <td>0.997987</td>\n",
              "    </tr>\n",
              "    <tr>\n",
              "      <th>2</th>\n",
              "      <td>7.272727</td>\n",
              "      <td>1.265925e-01</td>\n",
              "      <td>0.991955</td>\n",
              "    </tr>\n",
              "    <tr>\n",
              "      <th>3</th>\n",
              "      <td>10.909091</td>\n",
              "      <td>1.892512e-01</td>\n",
              "      <td>0.981929</td>\n",
              "    </tr>\n",
              "    <tr>\n",
              "      <th>4</th>\n",
              "      <td>14.545455</td>\n",
              "      <td>2.511480e-01</td>\n",
              "      <td>0.967949</td>\n",
              "    </tr>\n",
              "    <tr>\n",
              "      <th>...</th>\n",
              "      <td>...</td>\n",
              "      <td>...</td>\n",
              "      <td>...</td>\n",
              "    </tr>\n",
              "    <tr>\n",
              "      <th>95</th>\n",
              "      <td>345.454545</td>\n",
              "      <td>-2.511480e-01</td>\n",
              "      <td>0.967949</td>\n",
              "    </tr>\n",
              "    <tr>\n",
              "      <th>96</th>\n",
              "      <td>349.090909</td>\n",
              "      <td>-1.892512e-01</td>\n",
              "      <td>0.981929</td>\n",
              "    </tr>\n",
              "    <tr>\n",
              "      <th>97</th>\n",
              "      <td>352.727273</td>\n",
              "      <td>-1.265925e-01</td>\n",
              "      <td>0.991955</td>\n",
              "    </tr>\n",
              "    <tr>\n",
              "      <th>98</th>\n",
              "      <td>356.363636</td>\n",
              "      <td>-6.342392e-02</td>\n",
              "      <td>0.997987</td>\n",
              "    </tr>\n",
              "    <tr>\n",
              "      <th>99</th>\n",
              "      <td>360.000000</td>\n",
              "      <td>-2.449294e-16</td>\n",
              "      <td>1.000000</td>\n",
              "    </tr>\n",
              "  </tbody>\n",
              "</table>\n",
              "<p>100 rows × 3 columns</p>\n",
              "</div>"
            ],
            "text/plain": [
              "             X        sin(x)    cos(x)\n",
              "0     0.000000  0.000000e+00  1.000000\n",
              "1     3.636364  6.342392e-02  0.997987\n",
              "2     7.272727  1.265925e-01  0.991955\n",
              "3    10.909091  1.892512e-01  0.981929\n",
              "4    14.545455  2.511480e-01  0.967949\n",
              "..         ...           ...       ...\n",
              "95  345.454545 -2.511480e-01  0.967949\n",
              "96  349.090909 -1.892512e-01  0.981929\n",
              "97  352.727273 -1.265925e-01  0.991955\n",
              "98  356.363636 -6.342392e-02  0.997987\n",
              "99  360.000000 -2.449294e-16  1.000000\n",
              "\n",
              "[100 rows x 3 columns]"
            ]
          },
          "metadata": {
            "tags": []
          },
          "execution_count": 40
        }
      ]
    },
    {
      "cell_type": "code",
      "metadata": {
        "id": "wHCtLwHQvfZu",
        "outputId": "4ea5102b-c413-456f-eff2-5ca0eee8c78e",
        "colab": {
          "base_uri": "https://localhost:8080/",
          "height": 349
        }
      },
      "source": [
        "# print the first 10 rows \n",
        "trig.head(10)"
      ],
      "execution_count": 41,
      "outputs": [
        {
          "output_type": "execute_result",
          "data": {
            "text/html": [
              "<div>\n",
              "<style scoped>\n",
              "    .dataframe tbody tr th:only-of-type {\n",
              "        vertical-align: middle;\n",
              "    }\n",
              "\n",
              "    .dataframe tbody tr th {\n",
              "        vertical-align: top;\n",
              "    }\n",
              "\n",
              "    .dataframe thead th {\n",
              "        text-align: right;\n",
              "    }\n",
              "</style>\n",
              "<table border=\"1\" class=\"dataframe\">\n",
              "  <thead>\n",
              "    <tr style=\"text-align: right;\">\n",
              "      <th></th>\n",
              "      <th>X</th>\n",
              "      <th>sin(x)</th>\n",
              "      <th>cos(x)</th>\n",
              "    </tr>\n",
              "  </thead>\n",
              "  <tbody>\n",
              "    <tr>\n",
              "      <th>0</th>\n",
              "      <td>0.000000</td>\n",
              "      <td>0.000000</td>\n",
              "      <td>1.000000</td>\n",
              "    </tr>\n",
              "    <tr>\n",
              "      <th>1</th>\n",
              "      <td>3.636364</td>\n",
              "      <td>0.063424</td>\n",
              "      <td>0.997987</td>\n",
              "    </tr>\n",
              "    <tr>\n",
              "      <th>2</th>\n",
              "      <td>7.272727</td>\n",
              "      <td>0.126592</td>\n",
              "      <td>0.991955</td>\n",
              "    </tr>\n",
              "    <tr>\n",
              "      <th>3</th>\n",
              "      <td>10.909091</td>\n",
              "      <td>0.189251</td>\n",
              "      <td>0.981929</td>\n",
              "    </tr>\n",
              "    <tr>\n",
              "      <th>4</th>\n",
              "      <td>14.545455</td>\n",
              "      <td>0.251148</td>\n",
              "      <td>0.967949</td>\n",
              "    </tr>\n",
              "    <tr>\n",
              "      <th>5</th>\n",
              "      <td>18.181818</td>\n",
              "      <td>0.312033</td>\n",
              "      <td>0.950071</td>\n",
              "    </tr>\n",
              "    <tr>\n",
              "      <th>6</th>\n",
              "      <td>21.818182</td>\n",
              "      <td>0.371662</td>\n",
              "      <td>0.928368</td>\n",
              "    </tr>\n",
              "    <tr>\n",
              "      <th>7</th>\n",
              "      <td>25.454545</td>\n",
              "      <td>0.429795</td>\n",
              "      <td>0.902927</td>\n",
              "    </tr>\n",
              "    <tr>\n",
              "      <th>8</th>\n",
              "      <td>29.090909</td>\n",
              "      <td>0.486197</td>\n",
              "      <td>0.873849</td>\n",
              "    </tr>\n",
              "    <tr>\n",
              "      <th>9</th>\n",
              "      <td>32.727273</td>\n",
              "      <td>0.540641</td>\n",
              "      <td>0.841254</td>\n",
              "    </tr>\n",
              "  </tbody>\n",
              "</table>\n",
              "</div>"
            ],
            "text/plain": [
              "           X    sin(x)    cos(x)\n",
              "0   0.000000  0.000000  1.000000\n",
              "1   3.636364  0.063424  0.997987\n",
              "2   7.272727  0.126592  0.991955\n",
              "3  10.909091  0.189251  0.981929\n",
              "4  14.545455  0.251148  0.967949\n",
              "5  18.181818  0.312033  0.950071\n",
              "6  21.818182  0.371662  0.928368\n",
              "7  25.454545  0.429795  0.902927\n",
              "8  29.090909  0.486197  0.873849\n",
              "9  32.727273  0.540641  0.841254"
            ]
          },
          "metadata": {
            "tags": []
          },
          "execution_count": 41
        }
      ]
    },
    {
      "cell_type": "code",
      "metadata": {
        "id": "RhSmMA7GvkkE",
        "outputId": "fe4be42d-839d-4268-d243-323b8a0d34f6",
        "colab": {
          "base_uri": "https://localhost:8080/",
          "height": 349
        }
      },
      "source": [
        "# print the last 10 rows\n",
        "trig.tail(10)"
      ],
      "execution_count": 42,
      "outputs": [
        {
          "output_type": "execute_result",
          "data": {
            "text/html": [
              "<div>\n",
              "<style scoped>\n",
              "    .dataframe tbody tr th:only-of-type {\n",
              "        vertical-align: middle;\n",
              "    }\n",
              "\n",
              "    .dataframe tbody tr th {\n",
              "        vertical-align: top;\n",
              "    }\n",
              "\n",
              "    .dataframe thead th {\n",
              "        text-align: right;\n",
              "    }\n",
              "</style>\n",
              "<table border=\"1\" class=\"dataframe\">\n",
              "  <thead>\n",
              "    <tr style=\"text-align: right;\">\n",
              "      <th></th>\n",
              "      <th>X</th>\n",
              "      <th>sin(x)</th>\n",
              "      <th>cos(x)</th>\n",
              "    </tr>\n",
              "  </thead>\n",
              "  <tbody>\n",
              "    <tr>\n",
              "      <th>90</th>\n",
              "      <td>327.272727</td>\n",
              "      <td>-5.406408e-01</td>\n",
              "      <td>0.841254</td>\n",
              "    </tr>\n",
              "    <tr>\n",
              "      <th>91</th>\n",
              "      <td>330.909091</td>\n",
              "      <td>-4.861967e-01</td>\n",
              "      <td>0.873849</td>\n",
              "    </tr>\n",
              "    <tr>\n",
              "      <th>92</th>\n",
              "      <td>334.545455</td>\n",
              "      <td>-4.297949e-01</td>\n",
              "      <td>0.902927</td>\n",
              "    </tr>\n",
              "    <tr>\n",
              "      <th>93</th>\n",
              "      <td>338.181818</td>\n",
              "      <td>-3.716625e-01</td>\n",
              "      <td>0.928368</td>\n",
              "    </tr>\n",
              "    <tr>\n",
              "      <th>94</th>\n",
              "      <td>341.818182</td>\n",
              "      <td>-3.120334e-01</td>\n",
              "      <td>0.950071</td>\n",
              "    </tr>\n",
              "    <tr>\n",
              "      <th>95</th>\n",
              "      <td>345.454545</td>\n",
              "      <td>-2.511480e-01</td>\n",
              "      <td>0.967949</td>\n",
              "    </tr>\n",
              "    <tr>\n",
              "      <th>96</th>\n",
              "      <td>349.090909</td>\n",
              "      <td>-1.892512e-01</td>\n",
              "      <td>0.981929</td>\n",
              "    </tr>\n",
              "    <tr>\n",
              "      <th>97</th>\n",
              "      <td>352.727273</td>\n",
              "      <td>-1.265925e-01</td>\n",
              "      <td>0.991955</td>\n",
              "    </tr>\n",
              "    <tr>\n",
              "      <th>98</th>\n",
              "      <td>356.363636</td>\n",
              "      <td>-6.342392e-02</td>\n",
              "      <td>0.997987</td>\n",
              "    </tr>\n",
              "    <tr>\n",
              "      <th>99</th>\n",
              "      <td>360.000000</td>\n",
              "      <td>-2.449294e-16</td>\n",
              "      <td>1.000000</td>\n",
              "    </tr>\n",
              "  </tbody>\n",
              "</table>\n",
              "</div>"
            ],
            "text/plain": [
              "             X        sin(x)    cos(x)\n",
              "90  327.272727 -5.406408e-01  0.841254\n",
              "91  330.909091 -4.861967e-01  0.873849\n",
              "92  334.545455 -4.297949e-01  0.902927\n",
              "93  338.181818 -3.716625e-01  0.928368\n",
              "94  341.818182 -3.120334e-01  0.950071\n",
              "95  345.454545 -2.511480e-01  0.967949\n",
              "96  349.090909 -1.892512e-01  0.981929\n",
              "97  352.727273 -1.265925e-01  0.991955\n",
              "98  356.363636 -6.342392e-02  0.997987\n",
              "99  360.000000 -2.449294e-16  1.000000"
            ]
          },
          "metadata": {
            "tags": []
          },
          "execution_count": 42
        }
      ]
    },
    {
      "cell_type": "code",
      "metadata": {
        "id": "mccQKOzE_jGi",
        "outputId": "24607b22-3e5b-4225-82ad-bb350fe92c32",
        "colab": {
          "base_uri": "https://localhost:8080/",
          "height": 198
        }
      },
      "source": [
        "# create another dataframe \n",
        "names = ['Robby', 'Alice', 'Rick', 'James', 'Alley']\n",
        "ages = [20, 30, 21, 17, 18]\n",
        "cars = [0, 2, 3, 1, 6]\n",
        "\n",
        "data = pd.DataFrame({'Name': names, 'Age': ages, 'Cars': cars})\n",
        "\n",
        "data"
      ],
      "execution_count": 43,
      "outputs": [
        {
          "output_type": "execute_result",
          "data": {
            "text/html": [
              "<div>\n",
              "<style scoped>\n",
              "    .dataframe tbody tr th:only-of-type {\n",
              "        vertical-align: middle;\n",
              "    }\n",
              "\n",
              "    .dataframe tbody tr th {\n",
              "        vertical-align: top;\n",
              "    }\n",
              "\n",
              "    .dataframe thead th {\n",
              "        text-align: right;\n",
              "    }\n",
              "</style>\n",
              "<table border=\"1\" class=\"dataframe\">\n",
              "  <thead>\n",
              "    <tr style=\"text-align: right;\">\n",
              "      <th></th>\n",
              "      <th>Name</th>\n",
              "      <th>Age</th>\n",
              "      <th>Cars</th>\n",
              "    </tr>\n",
              "  </thead>\n",
              "  <tbody>\n",
              "    <tr>\n",
              "      <th>0</th>\n",
              "      <td>Robby</td>\n",
              "      <td>20</td>\n",
              "      <td>0</td>\n",
              "    </tr>\n",
              "    <tr>\n",
              "      <th>1</th>\n",
              "      <td>Alice</td>\n",
              "      <td>30</td>\n",
              "      <td>2</td>\n",
              "    </tr>\n",
              "    <tr>\n",
              "      <th>2</th>\n",
              "      <td>Rick</td>\n",
              "      <td>21</td>\n",
              "      <td>3</td>\n",
              "    </tr>\n",
              "    <tr>\n",
              "      <th>3</th>\n",
              "      <td>James</td>\n",
              "      <td>17</td>\n",
              "      <td>1</td>\n",
              "    </tr>\n",
              "    <tr>\n",
              "      <th>4</th>\n",
              "      <td>Alley</td>\n",
              "      <td>18</td>\n",
              "      <td>6</td>\n",
              "    </tr>\n",
              "  </tbody>\n",
              "</table>\n",
              "</div>"
            ],
            "text/plain": [
              "    Name  Age  Cars\n",
              "0  Robby   20     0\n",
              "1  Alice   30     2\n",
              "2   Rick   21     3\n",
              "3  James   17     1\n",
              "4  Alley   18     6"
            ]
          },
          "metadata": {
            "tags": []
          },
          "execution_count": 43
        }
      ]
    },
    {
      "cell_type": "code",
      "metadata": {
        "id": "vpP06kODAjIm",
        "outputId": "5ad297b3-2e84-4f50-e1ca-e1ee8fcfb386",
        "colab": {
          "base_uri": "https://localhost:8080/",
          "height": 198
        }
      },
      "source": [
        "# add new columns \"hometown\" and \"gender\" to our data\n",
        "hometown = ['Berlin', 'Madras', 'London', 'Warsaw', 'Paris']\n",
        "gender = ['Male', 'Female', 'Male', 'Male', 'Female']\n",
        "\n",
        "data['Hometown'] = hometown\n",
        "data['Gender'] = gender\n",
        "\n",
        "data"
      ],
      "execution_count": 44,
      "outputs": [
        {
          "output_type": "execute_result",
          "data": {
            "text/html": [
              "<div>\n",
              "<style scoped>\n",
              "    .dataframe tbody tr th:only-of-type {\n",
              "        vertical-align: middle;\n",
              "    }\n",
              "\n",
              "    .dataframe tbody tr th {\n",
              "        vertical-align: top;\n",
              "    }\n",
              "\n",
              "    .dataframe thead th {\n",
              "        text-align: right;\n",
              "    }\n",
              "</style>\n",
              "<table border=\"1\" class=\"dataframe\">\n",
              "  <thead>\n",
              "    <tr style=\"text-align: right;\">\n",
              "      <th></th>\n",
              "      <th>Name</th>\n",
              "      <th>Age</th>\n",
              "      <th>Cars</th>\n",
              "      <th>Hometown</th>\n",
              "      <th>Gender</th>\n",
              "    </tr>\n",
              "  </thead>\n",
              "  <tbody>\n",
              "    <tr>\n",
              "      <th>0</th>\n",
              "      <td>Robby</td>\n",
              "      <td>20</td>\n",
              "      <td>0</td>\n",
              "      <td>Berlin</td>\n",
              "      <td>Male</td>\n",
              "    </tr>\n",
              "    <tr>\n",
              "      <th>1</th>\n",
              "      <td>Alice</td>\n",
              "      <td>30</td>\n",
              "      <td>2</td>\n",
              "      <td>Madras</td>\n",
              "      <td>Female</td>\n",
              "    </tr>\n",
              "    <tr>\n",
              "      <th>2</th>\n",
              "      <td>Rick</td>\n",
              "      <td>21</td>\n",
              "      <td>3</td>\n",
              "      <td>London</td>\n",
              "      <td>Male</td>\n",
              "    </tr>\n",
              "    <tr>\n",
              "      <th>3</th>\n",
              "      <td>James</td>\n",
              "      <td>17</td>\n",
              "      <td>1</td>\n",
              "      <td>Warsaw</td>\n",
              "      <td>Male</td>\n",
              "    </tr>\n",
              "    <tr>\n",
              "      <th>4</th>\n",
              "      <td>Alley</td>\n",
              "      <td>18</td>\n",
              "      <td>6</td>\n",
              "      <td>Paris</td>\n",
              "      <td>Female</td>\n",
              "    </tr>\n",
              "  </tbody>\n",
              "</table>\n",
              "</div>"
            ],
            "text/plain": [
              "    Name  Age  Cars Hometown  Gender\n",
              "0  Robby   20     0   Berlin    Male\n",
              "1  Alice   30     2   Madras  Female\n",
              "2   Rick   21     3   London    Male\n",
              "3  James   17     1   Warsaw    Male\n",
              "4  Alley   18     6    Paris  Female"
            ]
          },
          "metadata": {
            "tags": []
          },
          "execution_count": 44
        }
      ]
    },
    {
      "cell_type": "code",
      "metadata": {
        "id": "Ds_HN0wlL07w",
        "outputId": "7efa6281-59f8-465d-b1bd-138c3c4f7eaf",
        "colab": {
          "base_uri": "https://localhost:8080/"
        }
      },
      "source": [
        "# print only the data with \"Name\" column\n",
        "data['Name']"
      ],
      "execution_count": 45,
      "outputs": [
        {
          "output_type": "execute_result",
          "data": {
            "text/plain": [
              "0    Robby\n",
              "1    Alice\n",
              "2     Rick\n",
              "3    James\n",
              "4    Alley\n",
              "Name: Name, dtype: object"
            ]
          },
          "metadata": {
            "tags": []
          },
          "execution_count": 45
        }
      ]
    },
    {
      "cell_type": "code",
      "metadata": {
        "id": "qCxNMBQRv-mQ",
        "outputId": "f5d2be9b-d657-4e08-d864-a18aebb295d8",
        "colab": {
          "base_uri": "https://localhost:8080/"
        }
      },
      "source": [
        "# or another alternative\n",
        "data.iloc[:,0]"
      ],
      "execution_count": 46,
      "outputs": [
        {
          "output_type": "execute_result",
          "data": {
            "text/plain": [
              "0    Robby\n",
              "1    Alice\n",
              "2     Rick\n",
              "3    James\n",
              "4    Alley\n",
              "Name: Name, dtype: object"
            ]
          },
          "metadata": {
            "tags": []
          },
          "execution_count": 46
        }
      ]
    },
    {
      "cell_type": "code",
      "metadata": {
        "id": "uxuDXpMBBa3y",
        "outputId": "08c38c6d-c1c1-4eff-de60-80fc576c0db4",
        "colab": {
          "base_uri": "https://localhost:8080/"
        }
      },
      "source": [
        "# print only the data in the first row\n",
        "data.iloc[1,:]"
      ],
      "execution_count": 47,
      "outputs": [
        {
          "output_type": "execute_result",
          "data": {
            "text/plain": [
              "Name         Alice\n",
              "Age             30\n",
              "Cars             2\n",
              "Hometown    Madras\n",
              "Gender      Female\n",
              "Name: 1, dtype: object"
            ]
          },
          "metadata": {
            "tags": []
          },
          "execution_count": 47
        }
      ]
    },
    {
      "cell_type": "code",
      "metadata": {
        "id": "DmCdUvvqA1s4",
        "outputId": "5222246c-8ec3-4754-caf8-49d43822d1b6",
        "colab": {
          "base_uri": "https://localhost:8080/",
          "height": 108
        }
      },
      "source": [
        "# print only the data with \"Gender\" as \"Female\"\n",
        "mask_male = data['Gender'] == 'Female'\n",
        "\n",
        "data[mask_male]"
      ],
      "execution_count": 25,
      "outputs": [
        {
          "output_type": "execute_result",
          "data": {
            "text/html": [
              "<div>\n",
              "<style scoped>\n",
              "    .dataframe tbody tr th:only-of-type {\n",
              "        vertical-align: middle;\n",
              "    }\n",
              "\n",
              "    .dataframe tbody tr th {\n",
              "        vertical-align: top;\n",
              "    }\n",
              "\n",
              "    .dataframe thead th {\n",
              "        text-align: right;\n",
              "    }\n",
              "</style>\n",
              "<table border=\"1\" class=\"dataframe\">\n",
              "  <thead>\n",
              "    <tr style=\"text-align: right;\">\n",
              "      <th></th>\n",
              "      <th>Name</th>\n",
              "      <th>Age</th>\n",
              "      <th>Cars</th>\n",
              "      <th>Hometown</th>\n",
              "      <th>Gender</th>\n",
              "    </tr>\n",
              "  </thead>\n",
              "  <tbody>\n",
              "    <tr>\n",
              "      <th>1</th>\n",
              "      <td>Alice</td>\n",
              "      <td>30</td>\n",
              "      <td>2</td>\n",
              "      <td>Madras</td>\n",
              "      <td>Female</td>\n",
              "    </tr>\n",
              "    <tr>\n",
              "      <th>4</th>\n",
              "      <td>Alley</td>\n",
              "      <td>18</td>\n",
              "      <td>6</td>\n",
              "      <td>Paris</td>\n",
              "      <td>Female</td>\n",
              "    </tr>\n",
              "  </tbody>\n",
              "</table>\n",
              "</div>"
            ],
            "text/plain": [
              "    Name  Age  Cars Hometown  Gender\n",
              "1  Alice   30     2   Madras  Female\n",
              "4  Alley   18     6    Paris  Female"
            ]
          },
          "metadata": {
            "tags": []
          },
          "execution_count": 25
        }
      ]
    },
    {
      "cell_type": "markdown",
      "metadata": {
        "id": "2RkG9Tb1weqp"
      },
      "source": [
        "## Copyright\n",
        "\n",
        "This notebook is copyright of Yohanes Nuwara (2020). It is contained in [this repository](https://github.com/yohanesnuwara/python-bootcamp-for-geoengineers) You may freely distribute for self-study and tutorials, but you will consider the authorship of all the codes written here. \n",
        "\n",
        "<a rel=\"license\" href=\"http://creativecommons.org/licenses/by/4.0/\"><img alt=\"Creative Commons License\" style=\"border-width:0\" src=\"https://i.creativecommons.org/l/by/4.0/88x31.png\" /></a><br />This work is licensed under a <a rel=\"license\" href=\"http://creativecommons.org/licenses/by/4.0/\">Creative Commons Attribution 4.0 International License</a>."
      ]
    }
  ]
}