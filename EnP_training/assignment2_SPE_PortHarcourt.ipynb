{
  "nbformat": 4,
  "nbformat_minor": 0,
  "metadata": {
    "colab": {
      "name": "assignment2-SPE-PortHarcourt.ipynb",
      "provenance": [],
      "collapsed_sections": [],
      "authorship_tag": "ABX9TyOLJMABCXHd/yjjUHKog6hi",
      "include_colab_link": true
    },
    "kernelspec": {
      "name": "python3",
      "display_name": "Python 3"
    }
  },
  "cells": [
    {
      "cell_type": "markdown",
      "metadata": {
        "id": "view-in-github",
        "colab_type": "text"
      },
      "source": [
        "<a href=\"https://colab.research.google.com/github/yohanesnuwara/python-bootcamp-for-geoengineers/blob/master/EnP_training/assignment2_SPE_PortHarcourt.ipynb\" target=\"_parent\"><img src=\"https://colab.research.google.com/assets/colab-badge.svg\" alt=\"Open In Colab\"/></a>"
      ]
    },
    {
      "cell_type": "markdown",
      "metadata": {
        "id": "JMMMBA2jKhGO"
      },
      "source": [
        "# Assignment of Session 3 and 4\n",
        "\n",
        "Welcome to the assignment! \n",
        "\n",
        "Few things you should note:\n",
        "\n",
        "* First follow instructions and read the problem statement in the assignment PowerPoint\n",
        "* You will be coding in this notebook\n",
        "* To help you coding, follow along our Session 3 and 4 tutorial notebooks.\n",
        "* Once you have finished, open the sharing setting, turn on to anyone can view, and copy the link. Paste the link to the assignment form and submit. See tutorials on how to do so in PowerPoint. \n",
        "\n",
        "Your deadline is Friday, 20 November 2020 at 0.00 UTC"
      ]
    },
    {
      "cell_type": "markdown",
      "metadata": {
        "id": "v6ZCMmwPKzVx"
      },
      "source": [
        "## Assignment 1: Formation Evaluation"
      ]
    },
    {
      "cell_type": "markdown",
      "metadata": {
        "id": "LqbodOfrKnJa"
      },
      "source": [
        "Run this cell to get all the data and functions, all at once"
      ]
    },
    {
      "cell_type": "code",
      "metadata": {
        "id": "HG-NS3FpDqJD"
      },
      "source": [
        "!git clone https://github.com/yohanesnuwara/formation-evaluation\n",
        "\n",
        "import sys\n",
        "sys.path.append('/content/formation-evaluation')\n",
        "\n",
        "from well_log_display import well_log_display\n",
        "from triple_combo import triple_combo\n",
        "from ND_plot import ND_plot\n",
        "from label_generator import label_generator\n",
        "\n",
        "well_log_file_path = '/content/formation-evaluation/data/volve/15_9-F-11A.LAS'\n",
        "well_top_file_path = '/content/formation-evaluation/data/volve/Fmtops_15_9-F-11A.csv'"
      ],
      "execution_count": null,
      "outputs": []
    },
    {
      "cell_type": "markdown",
      "metadata": {
        "id": "twwtGqdIuXdP"
      },
      "source": [
        "Start your codes from here"
      ]
    },
    {
      "cell_type": "markdown",
      "metadata": {
        "id": "vU8YiZGqMBMT"
      },
      "source": [
        "### Make your triple combo"
      ]
    },
    {
      "cell_type": "code",
      "metadata": {
        "id": "bmmZ1_YaMAhU"
      },
      "source": [
        "# Make your triple combo as instructed\n",
        "\n",
        "\n",
        "\n",
        "\n"
      ],
      "execution_count": null,
      "outputs": []
    },
    {
      "cell_type": "markdown",
      "metadata": {
        "id": "NLxmYBaVMMUM"
      },
      "source": [
        "### Make your Neutron-Density Plot"
      ]
    },
    {
      "cell_type": "code",
      "metadata": {
        "id": "7BppGHNWMvoj"
      },
      "source": [
        "# Make your Neutron-Density plot as instructed\n",
        "\n",
        "\n",
        "\n",
        "\n",
        "\n"
      ],
      "execution_count": null,
      "outputs": []
    },
    {
      "cell_type": "markdown",
      "metadata": {
        "id": "BS1WO1izM0R9"
      },
      "source": [
        "### Compute Petrophysical Variables of Sleipner Formation"
      ]
    },
    {
      "cell_type": "code",
      "metadata": {
        "id": "cC6G6HUDM7bR"
      },
      "source": [
        "# Compute petrophysical variables of Sleipner Formation\n",
        "\n",
        "\n",
        "\n",
        "\n"
      ],
      "execution_count": null,
      "outputs": []
    },
    {
      "cell_type": "markdown",
      "metadata": {
        "id": "J1ybdN_uNxwl"
      },
      "source": [
        "## Assignment 2: Material Balance Analysis"
      ]
    },
    {
      "cell_type": "markdown",
      "metadata": {
        "id": "dlYyQQVwN1MG"
      },
      "source": [
        "Run this cell to get all the data and functions, all at once\n",
        "\n"
      ]
    },
    {
      "cell_type": "code",
      "metadata": {
        "id": "zZkckzuKN4bD"
      },
      "source": [
        "!git clone https://github.com/yohanesnuwara/pyreservoir\n",
        "\n",
        "import sys\n",
        "sys.path.append('/content/pyreservoir/matbal')\n",
        "\n",
        "from mbal import drygas, gascondensate, oil\n",
        "from aquifer import veh\n",
        "\n",
        "filepath = '/content/pyreservoir/data/dry_gas_with_overpressure.csv'\n",
        "columns = ['date', 'p', 'z', 'Gp', 'Bg']"
      ],
      "execution_count": null,
      "outputs": []
    },
    {
      "cell_type": "markdown",
      "metadata": {
        "id": "j20jQbSzs3dL"
      },
      "source": [
        "The reservoir has the following properties:\n",
        "\n",
        "* Formation compressibility is 19.5 microsip\n",
        "* Water compressibility is 3 microsip\n",
        "* Initial water saturation is 0.22\n",
        "* Reservoir extent is 7 km (1 km = 3,281 ft)\n",
        "* Reservoir thickness is 50 ft\n",
        "* Porosity is 0.3\n",
        "* Permeability is 250 md\n",
        "* Water viscosity is 0.87 cp\n",
        "\n",
        "And also, some variables in the production data are NOT recorded in FIELD UNITS. They are:\n",
        "* Cum. gas production [BSCF]\n"
      ]
    },
    {
      "cell_type": "markdown",
      "metadata": {
        "id": "6CGVVaosuabB"
      },
      "source": [
        "Start your codes from here"
      ]
    },
    {
      "cell_type": "code",
      "metadata": {
        "id": "znkKbBHnuC9X"
      },
      "source": [
        "# Make material balance plots \n",
        "\n",
        "\n",
        "\n",
        "\n"
      ],
      "execution_count": null,
      "outputs": []
    },
    {
      "cell_type": "code",
      "metadata": {
        "id": "W7eiEnbGuJBl"
      },
      "source": [
        "# Calculate aquifer influx using VEH method\n",
        "\n",
        "\n",
        "\n"
      ],
      "execution_count": null,
      "outputs": []
    },
    {
      "cell_type": "code",
      "metadata": {
        "id": "rQF2_Q05uOgx"
      },
      "source": [
        "# Plot the aquifer influx\n",
        "\n",
        "\n",
        "\n"
      ],
      "execution_count": null,
      "outputs": []
    }
  ]
}