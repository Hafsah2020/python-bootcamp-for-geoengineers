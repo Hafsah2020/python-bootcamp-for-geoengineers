{
  "nbformat": 4,
  "nbformat_minor": 0,
  "metadata": {
    "colab": {
      "name": "assignment3-SPE.ipynb",
      "provenance": [],
      "collapsed_sections": [],
      "authorship_tag": "ABX9TyOPdTY1Jm5PeP3U4khiyiLr",
      "include_colab_link": true
    },
    "kernelspec": {
      "name": "python3",
      "display_name": "Python 3"
    }
  },
  "cells": [
    {
      "cell_type": "markdown",
      "metadata": {
        "id": "view-in-github",
        "colab_type": "text"
      },
      "source": [
        "<a href=\"https://colab.research.google.com/github/yohanesnuwara/python-bootcamp-for-geoengineers/blob/master/EnP_training/assignment3_SPE.ipynb\" target=\"_parent\"><img src=\"https://colab.research.google.com/assets/colab-badge.svg\" alt=\"Open In Colab\"/></a>"
      ]
    },
    {
      "cell_type": "markdown",
      "metadata": {
        "id": "mYF9TAAYHktD"
      },
      "source": [
        "# Assignment 3\n",
        "\n",
        "This assignment is about the application of Python for well-test analysis. You're given a CSV data (have been loaded here), and your task is to **simulate the well transient response** (not to analyze it).\n",
        "\n",
        "### Given reservoir properties\n",
        "\n",
        "* Reservoir initial pressure 3,000 psia\n",
        "* Porosity 15%\n",
        "* Total compressibility 12 microsip\n",
        "* Permeability 1,000 md\n",
        "* Radius of wellbore 4 inch (1 inch = 0.0833 ft)\n",
        "* Reservoir thickness 10 ft\n",
        "* Oil viscosity 2 cp\n",
        "* Distance from wellbore to reservoir outer boundary 8,000 ft \n",
        "* Oil FVF 1.33 RB/STB\n",
        "\n",
        "### Read instruction carefully 😊\n",
        "\n",
        "* To help you coding, refer to the section about \"Modeling a Multirate Test\" and \"Modeling a Multiple Pressure Test\" in our [session 5 notebook](https://bit.ly/python-welltest).\n",
        "\n",
        "* There are 3 columns in the data, \"Time\" (in hours), \"Rate\" (in $m^3$/hour), and \"Pressure\" (in bar). \n",
        "\n",
        "* Don't forget to convert the \"Rate\" to barrel/day and convert \"Pressure\" to psia. \n",
        "\n",
        "* Do a modeling of multirate test using the \"Time\" and \"Rate\" data\n",
        "* Do a modeling of multiple pressure test using the \"Time\" and \"Pressure\" data"
      ]
    },
    {
      "cell_type": "code",
      "metadata": {
        "id": "I9zHGyR8HgiM"
      },
      "source": [
        "import numpy as np\n",
        "import matplotlib.pyplot as plt\n",
        "import pandas as pd"
      ],
      "execution_count": null,
      "outputs": []
    },
    {
      "cell_type": "code",
      "metadata": {
        "colab": {
          "base_uri": "https://localhost:8080/"
        },
        "id": "FRAYMu5iJx4t",
        "outputId": "108a88c8-1afc-4ed1-dab9-2f4dcc8c37b6"
      },
      "source": [
        "# cloning to github repository \n",
        "!git clone https://github.com/yohanesnuwara/pyreservoir"
      ],
      "execution_count": null,
      "outputs": [
        {
          "output_type": "stream",
          "text": [
            "Cloning into 'pyreservoir'...\n",
            "remote: Enumerating objects: 161, done.\u001b[K\n",
            "remote: Counting objects: 100% (161/161), done.\u001b[K\n",
            "remote: Compressing objects: 100% (161/161), done.\u001b[K\n",
            "remote: Total 819 (delta 85), reused 0 (delta 0), pack-reused 658\u001b[K\n",
            "Receiving objects: 100% (819/819), 24.03 MiB | 4.35 MiB/s, done.\n",
            "Resolving deltas: 100% (439/439), done.\n"
          ],
          "name": "stdout"
        }
      ]
    },
    {
      "cell_type": "code",
      "metadata": {
        "id": "AZZRzpXYLCHx"
      },
      "source": [
        "# import system\n",
        "import sys\n",
        "sys.path.append('/content/pyreservoir/welltest')\n",
        "\n",
        "# functions you will use\n",
        "from wellflo import * # import all functions\n",
        "from wellanalysis import constant_rate_drawdown_test, constant_rate_buildup_test"
      ],
      "execution_count": null,
      "outputs": []
    },
    {
      "cell_type": "code",
      "metadata": {
        "id": "QaEcq2baJ5Nx"
      },
      "source": [
        "# filepath of the data\n",
        "filepath = '/content/pyreservoir/data/welltest/Data_Well_Transient_Modeling.csv'"
      ],
      "execution_count": null,
      "outputs": []
    },
    {
      "cell_type": "markdown",
      "metadata": {
        "id": "rbmwC1vxQqrz"
      },
      "source": [
        "## Input reservoir properties"
      ]
    },
    {
      "cell_type": "code",
      "metadata": {
        "id": "c-38ojccQtJo"
      },
      "source": [
        "# Input reservoir properties\n",
        "\n"
      ],
      "execution_count": null,
      "outputs": []
    },
    {
      "cell_type": "markdown",
      "metadata": {
        "id": "Fw5gUhIAQUp1"
      },
      "source": [
        "## Modeling the Multirate Test (use timestep 0.1 hour)"
      ]
    },
    {
      "cell_type": "code",
      "metadata": {
        "id": "I25OTQlXQXbG"
      },
      "source": [
        "# Define t and q from data\n",
        "\n"
      ],
      "execution_count": null,
      "outputs": []
    },
    {
      "cell_type": "markdown",
      "metadata": {
        "id": "iF8bPd8BQXr8"
      },
      "source": [
        "## Modeling the Multiple Pressure Test (use timestep 0.1 hour)"
      ]
    },
    {
      "cell_type": "code",
      "metadata": {
        "id": "1Yy6QH-OQZ_g"
      },
      "source": [
        "# Define t and p from data\n",
        "\n"
      ],
      "execution_count": null,
      "outputs": []
    }
  ]
}