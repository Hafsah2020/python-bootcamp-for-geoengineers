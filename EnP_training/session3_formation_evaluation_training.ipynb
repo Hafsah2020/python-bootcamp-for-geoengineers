{
  "nbformat": 4,
  "nbformat_minor": 0,
  "metadata": {
    "colab": {
      "name": "session3-formation-evaluation-training.ipynb",
      "provenance": [],
      "collapsed_sections": [
        "YnTSPI1q5IGc"
      ],
      "authorship_tag": "ABX9TyO+dKMYaF5thwFd9XGXoL22",
      "include_colab_link": true
    },
    "kernelspec": {
      "name": "python3",
      "display_name": "Python 3"
    }
  },
  "cells": [
    {
      "cell_type": "markdown",
      "metadata": {
        "id": "view-in-github",
        "colab_type": "text"
      },
      "source": [
        "<a href=\"https://colab.research.google.com/github/yohanesnuwara/python-bootcamp-for-geoengineers/blob/master/EnP_training/session3_formation_evaluation_training.ipynb\" target=\"_parent\"><img src=\"https://colab.research.google.com/assets/colab-badge.svg\" alt=\"Open In Colab\"/></a>"
      ]
    },
    {
      "cell_type": "markdown",
      "metadata": {
        "id": "QjVu58GXDAjC"
      },
      "source": [
        "# Formation Evaluation with Python"
      ]
    },
    {
      "cell_type": "code",
      "metadata": {
        "id": "EdNaYXXQ80kn"
      },
      "source": [
        "# import numpy, matplotlib, and pandas\n"
      ],
      "execution_count": null,
      "outputs": []
    },
    {
      "cell_type": "code",
      "metadata": {
        "id": "gCYG_lmlEKHO"
      },
      "source": [
        "# install and import lasio\n"
      ],
      "execution_count": null,
      "outputs": []
    },
    {
      "cell_type": "code",
      "metadata": {
        "id": "gnNsd6wfORp4"
      },
      "source": [
        "# cloning github repository of formation-evaluation\n",
        "!git clone https://github.com/yohanesnuwara/formation-evaluation"
      ],
      "execution_count": null,
      "outputs": []
    },
    {
      "cell_type": "code",
      "metadata": {
        "id": "ECPy2WyluMfT"
      },
      "source": [
        "# import all functions from formation-evaluation\n"
      ],
      "execution_count": null,
      "outputs": []
    },
    {
      "cell_type": "markdown",
      "metadata": {
        "id": "YnTSPI1q5IGc"
      },
      "source": [
        "## Functions"
      ]
    },
    {
      "cell_type": "code",
      "metadata": {
        "id": "bfim4-FlMpTo"
      },
      "source": [
        "def calculate_klogh(formation_name, phif, vsh):\n",
        "  # there is no available equation for Heather Fm. \n",
        "  if formation_name == 'hugin':\n",
        "    return 10 ** (2 + (8 * phif) - (9 * vsh))\n",
        "  if formation_name == 'sleipner':\n",
        "    return 10 ** (-3 + (32 * phif) - (2 * vsh))\n",
        "  if formation_name == 'skagerak':\n",
        "    return 10 ** (-1.85 + (17.4 * phif) - (3 * vsh))"
      ],
      "execution_count": null,
      "outputs": []
    },
    {
      "cell_type": "markdown",
      "metadata": {
        "id": "aXJviBzO5IRZ"
      },
      "source": [
        "## Load well log data"
      ]
    },
    {
      "cell_type": "code",
      "metadata": {
        "id": "vh6DGdhSYaZ2"
      },
      "source": [
        "# specify file path (well 15/9-F-11A)\n",
        "filepath = '/content/formation-evaluation/data/volve/15_9-F-1A.LAS'\n",
        "\n",
        "\n",
        "# read with lasio\n",
        "\n",
        "\n"
      ],
      "execution_count": null,
      "outputs": []
    },
    {
      "cell_type": "code",
      "metadata": {
        "id": "Byvwob3_Y4oo"
      },
      "source": [
        "# check the available logs with .keys()\n"
      ],
      "execution_count": null,
      "outputs": []
    },
    {
      "cell_type": "code",
      "metadata": {
        "id": "UypLbBX7Y6KO"
      },
      "source": [
        "# look for more detail with .curves\n"
      ],
      "execution_count": null,
      "outputs": []
    },
    {
      "cell_type": "code",
      "metadata": {
        "id": "2jMhXpjNe7KQ"
      },
      "source": [
        "# see the data using .data\n"
      ],
      "execution_count": null,
      "outputs": []
    },
    {
      "cell_type": "code",
      "metadata": {
        "id": "kKaoIJuIukK3"
      },
      "source": [
        "# convert it to Pandas dataframe using .df() and then reset index\n"
      ],
      "execution_count": null,
      "outputs": []
    },
    {
      "cell_type": "code",
      "metadata": {
        "id": "mAPYJu5Wi10c"
      },
      "source": [
        "# then show the dataframe\n"
      ],
      "execution_count": null,
      "outputs": []
    },
    {
      "cell_type": "markdown",
      "metadata": {
        "id": "BpnGE6QSii4V"
      },
      "source": [
        "## Generate formation labels from formation tops file"
      ]
    },
    {
      "cell_type": "markdown",
      "metadata": {
        "id": "FWJFj3DdpDLX"
      },
      "source": [
        "We have formation tops file. What we are going to do now is to give formation top labels to the logs. We'll use function `label_generator`."
      ]
    },
    {
      "cell_type": "code",
      "metadata": {
        "id": "Lw8LU1hStpVD"
      },
      "source": [
        "# specify file path\n",
        "filepath = '/content/formation-evaluation/data/volve/Fmtops_15_9-F-11A.csv'\n",
        "\n",
        "# read with Pandas\n"
      ],
      "execution_count": null,
      "outputs": []
    },
    {
      "cell_type": "code",
      "metadata": {
        "id": "nANO7y2ww40Y"
      },
      "source": [
        "# see help to find what visualization inputs are required\n"
      ],
      "execution_count": null,
      "outputs": []
    },
    {
      "cell_type": "code",
      "metadata": {
        "id": "5c1V2I_nxguw"
      },
      "source": [
        "# use \"label_generator\" to generate formation labels\n",
        "# then show the dataframe\n"
      ],
      "execution_count": null,
      "outputs": []
    },
    {
      "cell_type": "markdown",
      "metadata": {
        "id": "rf8Uh78nrpl4"
      },
      "source": [
        "As we see here we have NaN in the `FM. LABEL` column simply because the depths are not corresponding to any Fm. tops. So we can replace NaNs with a string named as `Unknown`"
      ]
    },
    {
      "cell_type": "code",
      "metadata": {
        "id": "TUZRZbXgrqOT"
      },
      "source": [
        "# Replace NaNs in formation label column with string called \"Unknown\"\n"
      ],
      "execution_count": null,
      "outputs": []
    },
    {
      "cell_type": "markdown",
      "metadata": {
        "id": "Dt4hFlZkREr8"
      },
      "source": [
        "## Visualize"
      ]
    },
    {
      "cell_type": "markdown",
      "metadata": {
        "id": "FBAt3Ot38Uve"
      },
      "source": [
        "### Well-log visualization"
      ]
    },
    {
      "cell_type": "markdown",
      "metadata": {
        "id": "EVvD71Wz8a3V"
      },
      "source": [
        "We will use function `well_log_display`"
      ]
    },
    {
      "cell_type": "code",
      "metadata": {
        "id": "j-21gHXs4uJm"
      },
      "source": [
        "# see help to find what visualization inputs are required\n",
        "# identify which input is OBLIGATORY, which input is OPTIONAL\n"
      ],
      "execution_count": null,
      "outputs": []
    },
    {
      "cell_type": "markdown",
      "metadata": {
        "id": "T5OhmPfM4fQE"
      },
      "source": [
        "Use default"
      ]
    },
    {
      "cell_type": "code",
      "metadata": {
        "id": "fDTViGZL6oII"
      },
      "source": [
        "# Logs we gonna visualize are: 'NPHI', 'RHOB', 'GR', 'RT', 'PEF', 'CALI', 'DT', 'DTS' \n"
      ],
      "execution_count": null,
      "outputs": []
    },
    {
      "cell_type": "markdown",
      "metadata": {
        "id": "rqFKrXYfKTyi"
      },
      "source": [
        "Make the visualization looks better (adding the optional variables)\n",
        "\n",
        "* Transform the resistivity axis from Cartesian axis to Semilog axis\n",
        "* Give limits to the x and depth axes\n",
        "* Give different colors to each log"
      ]
    },
    {
      "cell_type": "code",
      "metadata": {
        "id": "83xmSG6g3cXF"
      },
      "source": [
        "# adding optional variables like \"min_depth\", \"max_depth\", etc.\n"
      ],
      "execution_count": null,
      "outputs": []
    },
    {
      "cell_type": "markdown",
      "metadata": {
        "id": "3Y_DlvKLRE9e"
      },
      "source": [
        "### Triple combo"
      ]
    },
    {
      "cell_type": "markdown",
      "metadata": {
        "id": "miYx4gtGMV5x"
      },
      "source": [
        "We are seeking hydrocarbon occurence in depth between 3,580 to 3,702 m. So, we'll visualize the crossover in a triple combo. We will use function `triple_combo`"
      ]
    },
    {
      "cell_type": "code",
      "metadata": {
        "id": "Ui40yM6Jch8D"
      },
      "source": [
        "# see help to find what visualization inputs are required\n",
        "# identify which input is OBLIGATORY, which input is OPTIONAL\n"
      ],
      "execution_count": null,
      "outputs": []
    },
    {
      "cell_type": "markdown",
      "metadata": {
        "id": "Apy8y2ieMn96"
      },
      "source": [
        "Use default"
      ]
    },
    {
      "cell_type": "code",
      "metadata": {
        "id": "zY0m5HtiRPQ3"
      },
      "source": [
        "# triple combo at depth from 3,580 to 3,702 m\n"
      ],
      "execution_count": null,
      "outputs": []
    },
    {
      "cell_type": "markdown",
      "metadata": {
        "id": "IJVNrPN-Mul8"
      },
      "source": [
        "Make the visualization looks better (adding the optional variables)\n",
        "\n",
        "* Give limits to the x axes (specifically, GR and resistivity)\n",
        "* Give a sand GR line, e.g. 50 API\n",
        "* Adjust figure size and title height (if needed)"
      ]
    },
    {
      "cell_type": "code",
      "metadata": {
        "id": "Otj1BYyONLVE"
      },
      "source": [
        "# adding optional variables like \"sand_GR_line\", \"figsize\", etc.\n"
      ],
      "execution_count": null,
      "outputs": []
    },
    {
      "cell_type": "markdown",
      "metadata": {
        "id": "1baRNjdPcmay"
      },
      "source": [
        "### Neutron Density Plot"
      ]
    },
    {
      "cell_type": "markdown",
      "metadata": {
        "id": "YvkNGHO5pu6E"
      },
      "source": [
        "We wish to identify the lithologies of each formation (whether sandstone, limestone, or dolomite) using ND plot. We will use function `ND_plot`."
      ]
    },
    {
      "cell_type": "code",
      "metadata": {
        "id": "rwPSULIxcokn"
      },
      "source": [
        "# see help to find what visualization inputs are required\n",
        "# identify which input is OBLIGATORY, which input is OPTIONAL\n"
      ],
      "execution_count": null,
      "outputs": []
    },
    {
      "cell_type": "markdown",
      "metadata": {
        "id": "C98eR1eOqzJG"
      },
      "source": [
        "Plot the NPHI and RHOB points differentiated by each formation names. (categorical)"
      ]
    },
    {
      "cell_type": "code",
      "metadata": {
        "id": "maj27dI7RSwV"
      },
      "source": [
        "# use \"ND_plot\" to make a plot with colors based on formation names\n"
      ],
      "execution_count": null,
      "outputs": []
    },
    {
      "cell_type": "markdown",
      "metadata": {
        "id": "ffwPI_UjyGpY"
      },
      "source": [
        "Plot NPHI and RHOB points differentiated by depths/other continuous variables"
      ]
    },
    {
      "cell_type": "code",
      "metadata": {
        "id": "PSwAozk6-ghR"
      },
      "source": [
        "# use \"ND_plot\" to make a plot with colors based on continuous variables\n"
      ],
      "execution_count": null,
      "outputs": []
    },
    {
      "cell_type": "markdown",
      "metadata": {
        "id": "teINIATNb47j"
      },
      "source": [
        "## Petrophysical Calculation per Formation Top"
      ]
    },
    {
      "cell_type": "markdown",
      "metadata": {
        "id": "jeA-Sppfb-sd"
      },
      "source": [
        "You already have the data with formation labels. Next we will calculate new petrophysical variables PER FORMATION LABEL (only Heather and Hugin). \n",
        "\n",
        "> Sleipner will be your assignment.\n",
        "\n"
      ]
    },
    {
      "cell_type": "markdown",
      "metadata": {
        "id": "kyG2KS0P08Wu"
      },
      "source": [
        "First thing we need to do is to \"mask the subset of dataframe in FM. LABEL column that contains each of the above names\"."
      ]
    },
    {
      "cell_type": "code",
      "metadata": {
        "id": "GNpHs3rgtPfT"
      },
      "source": [
        "# list all formation labels using df['x'].unique()\n"
      ],
      "execution_count": null,
      "outputs": []
    },
    {
      "cell_type": "code",
      "metadata": {
        "id": "cOD-BXQpuJvL"
      },
      "source": [
        "# create masks for Heather and Hugin using string contains: str.contains.('...')\n",
        "\n",
        "\n",
        "\n",
        "# see inside the mask\n"
      ],
      "execution_count": null,
      "outputs": []
    },
    {
      "cell_type": "markdown",
      "metadata": {
        "id": "u2oRPQ2TvVT3"
      },
      "source": [
        "Now isolate Heather and Hugin into individual subsets of Dataframe, using the masks that we made before."
      ]
    },
    {
      "cell_type": "code",
      "metadata": {
        "id": "j0JdzB9nvOBB"
      },
      "source": [
        "# create dataframe subsets of Heather and Hugin: df[mask]\n",
        "\n",
        "\n",
        "\n",
        "# print the Heather dataframe\n"
      ],
      "execution_count": null,
      "outputs": []
    },
    {
      "cell_type": "markdown",
      "metadata": {
        "id": "mof5w_ltyDl9"
      },
      "source": [
        "We calculate new petrophysical outputs on these subsets. Based on petrophysical report, each formation has different variables like fluid density ($\\rho_{fl}$), etc. The variables have been already listed below."
      ]
    },
    {
      "cell_type": "code",
      "metadata": {
        "id": "qHMkHIkTyWca"
      },
      "source": [
        "# List of individual variables of each formation (DO NOT CHANGE THESE VALUES)\n",
        "#            Heath  Hugin   Sleip     \n",
        "rho_ma    = [2.66,  2.65,   2.65]        \n",
        "rho_fl    = [1,     0.9,    0.9]\n",
        "gr_min    = [7,     7,      7]\n",
        "gr_max    = [120,   150,    105]\n",
        "A         = [0,     0.4,    0.4]  # regression coeff for PHID\n",
        "B         = [0,     0.01,   0.01] # regression coeff for PHID\n",
        "\n",
        "# from report, m of Hugin and Sleipner is calculated using specific formula (p. 15, 16)\n",
        "# now we just assume both has the following values (taken from Asquith, p. 5)\n",
        "# Hugin is \"estimated\" as consolidated sst, Sleipner as carbonates\n",
        "m         = [2,     2,      2.14] \n",
        "a         = [1,     1,      1]\n",
        "n         = [2,     2.45,   2.45]\n",
        "# water resistivity, already extrapolated at depth from Rw @ 20C = 0.07 ohm-m\n",
        "Rw        = [0.022, 0.022,  0.022] "
      ],
      "execution_count": 1,
      "outputs": []
    },
    {
      "cell_type": "markdown",
      "metadata": {
        "id": "lwKO1rgo8V54"
      },
      "source": [
        "### 1. Calculate density porosity (PHID)\n",
        "\n",
        "![image](https://user-images.githubusercontent.com/51282928/98511443-42241880-2297-11eb-94c2-c839ef7a35ba.png)"
      ]
    },
    {
      "cell_type": "code",
      "metadata": {
        "id": "byMaSBhk9MEj"
      },
      "source": [
        "# calculate PHID for Heather and Hugin\n"
      ],
      "execution_count": null,
      "outputs": []
    },
    {
      "cell_type": "markdown",
      "metadata": {
        "id": "IX95SMWq-TjK"
      },
      "source": [
        "### 2. Calculate total porosity (PHIF)"
      ]
    },
    {
      "cell_type": "code",
      "metadata": {
        "id": "ylRurhMX-fiA"
      },
      "source": [
        "# calculate PHIF for Heather and Hugin\n",
        "# phid + A * (NPHI - phid) + B\n",
        "\n",
        "\n",
        "# display histogram with bins 10\n"
      ],
      "execution_count": null,
      "outputs": []
    },
    {
      "cell_type": "markdown",
      "metadata": {
        "id": "jbAqUprI8Ols"
      },
      "source": [
        "Comment: some porosities are negative. This is normal because there are densities larger than calcite (> 2.71), while the measurement is in lst. unit check: `max(...)`"
      ]
    },
    {
      "cell_type": "code",
      "metadata": {
        "id": "PuYLgRZe8Ywx"
      },
      "source": [
        "# maximum value of Heather's RHOB\n"
      ],
      "execution_count": null,
      "outputs": []
    },
    {
      "cell_type": "markdown",
      "metadata": {
        "id": "2YSg1Xj6_gie"
      },
      "source": [
        "### 3. Calculate shale volume (VSH)\n",
        "\n",
        "![image](https://user-images.githubusercontent.com/51282928/98511687-ae9f1780-2297-11eb-9d96-9e50631ded03.png)"
      ]
    },
    {
      "cell_type": "code",
      "metadata": {
        "id": "XgxNyeOg_tKA"
      },
      "source": [
        "# calculate VSH for Heather and Hugin\n",
        "\n",
        "\n",
        "\n",
        "# print summary stats: df.describe()\n"
      ],
      "execution_count": null,
      "outputs": []
    },
    {
      "cell_type": "markdown",
      "metadata": {
        "id": "XiWLiTVYAb4n"
      },
      "source": [
        "### 4. Calculate water saturation (SW)\n",
        "\n",
        "![image](https://user-images.githubusercontent.com/51282928/98511817-ea39e180-2297-11eb-9919-50d9fb9dc4ea.png)\n",
        "\n"
      ]
    },
    {
      "cell_type": "code",
      "metadata": {
        "id": "fHPVlpDYA7pp"
      },
      "source": [
        "# calculate SW for Heather and Hugin\n",
        "\n"
      ],
      "execution_count": null,
      "outputs": []
    },
    {
      "cell_type": "markdown",
      "metadata": {
        "id": "wmxeigNl80RN"
      },
      "source": [
        "Comment: In Heather most SW result is larger than 1! \n",
        "However this is true because they're in fact water zone.\n",
        "So, we can mask all SW values larger than 1, to be changed to 1"
      ]
    },
    {
      "cell_type": "code",
      "metadata": {
        "id": "Upn1l43p89A5"
      },
      "source": [
        "## create mask\n",
        "\n",
        "\n",
        "\n",
        "## change anyting larger than 1 with 1 using the mask\n",
        "\n",
        "\n"
      ],
      "execution_count": null,
      "outputs": []
    },
    {
      "cell_type": "markdown",
      "metadata": {
        "id": "sKn4aBfCL-_H"
      },
      "source": [
        "### Calculate permeability (KLOGH)\n",
        "\n",
        "The functions have been prepared for you. The equation used are from the report (p. 13), different for each formation.\n",
        "\n",
        "![image](https://user-images.githubusercontent.com/51282928/98511897-089fdd00-2298-11eb-958b-3c2a05ce13e0.png)"
      ]
    },
    {
      "cell_type": "code",
      "metadata": {
        "id": "YpU1-vryMRq0"
      },
      "source": [
        "# There is no equation for Heather Fm., so Heather is not calculated\n",
        "\n",
        "\n",
        "# display boxplot\n",
        "\n",
        "\n"
      ],
      "execution_count": null,
      "outputs": []
    },
    {
      "cell_type": "markdown",
      "metadata": {
        "id": "yFMGOsoy9j-8"
      },
      "source": [
        "Comment: there are lots of outliers of Hugin permeability"
      ]
    },
    {
      "cell_type": "markdown",
      "metadata": {
        "id": "taa-cZSTzRpP"
      },
      "source": [
        "## Visualize calculations result"
      ]
    },
    {
      "cell_type": "markdown",
      "metadata": {
        "id": "TZCgaOi6zVj1"
      },
      "source": [
        "We have done with calculations, let's visualize them into logs. We will now practice using bare Matplotlib."
      ]
    },
    {
      "cell_type": "code",
      "metadata": {
        "id": "r3REYv-tzcm_"
      },
      "source": [
        "# visualize calculation result as derived logs (Hugin)\n",
        "\n",
        "\n",
        "\n",
        "\n",
        "\n",
        "\n"
      ],
      "execution_count": null,
      "outputs": []
    },
    {
      "cell_type": "markdown",
      "metadata": {
        "id": "RWj_jlYK6jzn"
      },
      "source": [
        "## End of the training!\n",
        "\n",
        "Now we know how to:\n",
        "* Read .LAS file using `lasio` and convert to Pandas dataframe\n",
        "* Generate formation top labels from formation top file .CSV \n",
        "* Visualize well-logs\n",
        "* Visualize triple combo\n",
        "* Visualize Neutron-Density plot (with categorical and continuous variables)\n",
        "* Making subsets of dataframes based on each formation name\n",
        "* Compute petrophysical variables (PHIF, SW, VSH, K)\n",
        "* Visualize the results"
      ]
    },
    {
      "cell_type": "markdown",
      "metadata": {
        "id": "QnwsoYMYyTGG"
      },
      "source": [
        "## Copyright\n",
        "\n",
        "`formation-evaluation` repository that stores all the functions and data, and this notebook, are copyrights of Yohanes Nuwara (2020). This notebook is contained in [this repository](https://github.com/yohanesnuwara/python-bootcamp-for-geoengineers) You may freely distribute for self-study and tutorials, but you will consider the authorship of all the codes written here. \n",
        "\n",
        "<a rel=\"license\" href=\"http://creativecommons.org/licenses/by/4.0/\"><img alt=\"Creative Commons License\" style=\"border-width:0\" src=\"https://i.creativecommons.org/l/by/4.0/88x31.png\" /></a><br />This work is licensed under a <a rel=\"license\" href=\"http://creativecommons.org/licenses/by/4.0/\">Creative Commons Attribution 4.0 International License</a>."
      ]
    }
  ]
}